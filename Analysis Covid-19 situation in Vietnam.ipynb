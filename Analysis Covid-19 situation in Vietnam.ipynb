{
 "cells": [
  {
   "cell_type": "markdown",
   "metadata": {},
   "source": [
    "<h1><span style = \"color: blue; font-weight:bold\" > Scrapping Covid Data from Ministry of Health</span></h1>"
   ]
  },
  {
   "cell_type": "markdown",
   "metadata": {},
   "source": [
    "This notebook is to collect the covid situation which is happenning in Vietnam"
   ]
  },
  {
   "cell_type": "markdown",
   "metadata": {},
   "source": [
    "<h2> 1. Import library</h2>"
   ]
  },
  {
   "cell_type": "code",
   "execution_count": 256,
   "metadata": {},
   "outputs": [],
   "source": [
    "import pandas as pd\n",
    "import numpy as np\n",
    "import requests\n",
    "import requests\n",
    "from bs4 import BeautifulSoup\n",
    "import lxml.html\n",
    "import datetime\n",
    "import time\n",
    "import pandas as pd\n",
    "import re\n",
    "from tqdm import tqdm\n",
    "from requests.adapters import HTTPAdapter\n",
    "from requests.packages.urllib3.util.retry import Retry\n",
    "import matplotlib.pyplot as plt\n",
    "import seaborn as sns\n",
    "import urllib3"
   ]
  },
  {
   "cell_type": "markdown",
   "metadata": {},
   "source": [
    "<h2> 2. Scrapped Data </h2>"
   ]
  },
  {
   "cell_type": "code",
   "execution_count": 2,
   "metadata": {},
   "outputs": [],
   "source": [
    "url = \"https://ncov.moh.gov.vn/vi/web/guest/trang-chu?p_p_id=corona_trangchu_top_CoronaTrangchuTopPortlet_INSTANCE_RrVAbIFIPL7v&p_p_lifecycle=0&p_p_state=normal&p_p_mode=view&_corona_trangchu_top_CoronaTrangchuTopPortlet_INSTANCE_RrVAbIFIPL7v_delta=100&_corona_trangchu_top_CoronaTrangchuTopPortlet_INSTANCE_RrVAbIFIPL7v_resetCur=false&_corona_trangchu_top_CoronaTrangchuTopPortlet_INSTANCE_RrVAbIFIPL7v_cur={}\""
   ]
  },
  {
   "cell_type": "code",
   "execution_count": 3,
   "metadata": {},
   "outputs": [],
   "source": [
    "def get_soup_data(link, m):\n",
    "    final_soup = []\n",
    "    for i in tqdm(range (0,m)):\n",
    "        page = requests.get(link.format(i), verify = False)\n",
    "        soup = BeautifulSoup(page.text, 'html.parser')\n",
    "        soup = soup.find_all('div', attrs= {\"class\": \"inner\"}) \n",
    "        final_soup.append(soup)\n",
    "    return final_soup"
   ]
  },
  {
   "cell_type": "code",
   "execution_count": 52,
   "metadata": {
    "tags": []
   },
   "outputs": [
    {
     "name": "stderr",
     "output_type": "stream",
     "text": [
      "100%|██████████| 120/120 [03:40<00:00,  1.83s/it]\n"
     ]
    }
   ],
   "source": [
    "urllib3.disable_warnings()\n",
    "soup = get_soup_data(url,120)"
   ]
  },
  {
   "cell_type": "markdown",
   "metadata": {},
   "source": [
    "<h2> 3. Extract & Clean data </h2>"
   ]
  },
  {
   "cell_type": "code",
   "execution_count": 110,
   "metadata": {},
   "outputs": [],
   "source": [
    "def clean_tag(text):\n",
    "    patient_n_age = [m.find_all('span',attrs = {\"class\":\"text-uppercase\"}) for i in soup for m in i]\n",
    "    patient_n_age = [i.get_text() for m in patient_n_age for i in m ]\n",
    "    loc_sta_nat  = [m.find_all('p') for i in soup for m in i]\n",
    "    loc_sta_nat = [i.get_text() for m in loc_sta_nat for i in m ]\n",
    "    return patient_n_age, loc_sta_nat\n"
   ]
  },
  {
   "cell_type": "code",
   "execution_count": 149,
   "metadata": {},
   "outputs": [],
   "source": [
    "patient_n_age, loc_sta_nat = clean_tag(soup)"
   ]
  },
  {
   "cell_type": "code",
   "execution_count": 173,
   "metadata": {},
   "outputs": [],
   "source": [
    "patient_number = [ int(re.sub(r\"(\\t)|BN|\\(|\\)|\\,\", \"\", i.split(\" -\")[0])) for i in patient_n_age ]\n",
    "\n",
    "age = [ int(i.split(\" - \")[1].replace(\"tuổi\",\"\").replace(\" \",\"\")) for i in patient_n_age ]\n",
    "province = [ i.split(\"\\n\")[1].replace(\" I\",\"\") for i in loc_sta_nat]\n",
    "status = [ i.split(\"\\n\")[2].replace(\"I\",\"\") for i in loc_sta_nat]\n",
    "nationality = [ i.split(\"\\n\")[3].replace(\"\\r\",\"\") for i in loc_sta_nat]"
   ]
  },
  {
   "cell_type": "code",
   "execution_count": 177,
   "metadata": {},
   "outputs": [],
   "source": [
    "data =pd.DataFrame(list(zip(patient_number,age,province,status,nationality)), \n",
    "                  columns = ['patient_number','age','province','status','nationality'])\n",
    "    "
   ]
  },
  {
   "cell_type": "code",
   "execution_count": 178,
   "metadata": {
    "scrolled": true
   },
   "outputs": [
    {
     "data": {
      "text/html": [
       "<div>\n",
       "<style scoped>\n",
       "    .dataframe tbody tr th:only-of-type {\n",
       "        vertical-align: middle;\n",
       "    }\n",
       "\n",
       "    .dataframe tbody tr th {\n",
       "        vertical-align: top;\n",
       "    }\n",
       "\n",
       "    .dataframe thead th {\n",
       "        text-align: right;\n",
       "    }\n",
       "</style>\n",
       "<table border=\"1\" class=\"dataframe\">\n",
       "  <thead>\n",
       "    <tr style=\"text-align: right;\">\n",
       "      <th></th>\n",
       "      <th>patient_number</th>\n",
       "      <th>age</th>\n",
       "      <th>province</th>\n",
       "      <th>status</th>\n",
       "      <th>nationality</th>\n",
       "    </tr>\n",
       "  </thead>\n",
       "  <tbody>\n",
       "    <tr>\n",
       "      <th>0</th>\n",
       "      <td>10999</td>\n",
       "      <td>42</td>\n",
       "      <td>Hồ Chí Minh</td>\n",
       "      <td>Đang điều trị</td>\n",
       "      <td>Việt Nam</td>\n",
       "    </tr>\n",
       "    <tr>\n",
       "      <th>1</th>\n",
       "      <td>10998</td>\n",
       "      <td>70</td>\n",
       "      <td>Hồ Chí Minh</td>\n",
       "      <td>Đang điều trị</td>\n",
       "      <td>Việt Nam</td>\n",
       "    </tr>\n",
       "    <tr>\n",
       "      <th>2</th>\n",
       "      <td>10997</td>\n",
       "      <td>41</td>\n",
       "      <td>Hồ Chí Minh</td>\n",
       "      <td>Đang điều trị</td>\n",
       "      <td>Việt Nam</td>\n",
       "    </tr>\n",
       "    <tr>\n",
       "      <th>3</th>\n",
       "      <td>10996</td>\n",
       "      <td>16</td>\n",
       "      <td>Hồ Chí Minh</td>\n",
       "      <td>Đang điều trị</td>\n",
       "      <td>Việt Nam</td>\n",
       "    </tr>\n",
       "    <tr>\n",
       "      <th>4</th>\n",
       "      <td>10995</td>\n",
       "      <td>43</td>\n",
       "      <td>Hồ Chí Minh</td>\n",
       "      <td>Đang điều trị</td>\n",
       "      <td>Việt Nam</td>\n",
       "    </tr>\n",
       "  </tbody>\n",
       "</table>\n",
       "</div>"
      ],
      "text/plain": [
       "   patient_number  age     province         status nationality\n",
       "0           10999   42  Hồ Chí Minh  Đang điều trị    Việt Nam\n",
       "1           10998   70  Hồ Chí Minh  Đang điều trị    Việt Nam\n",
       "2           10997   41  Hồ Chí Minh  Đang điều trị    Việt Nam\n",
       "3           10996   16  Hồ Chí Minh  Đang điều trị    Việt Nam\n",
       "4           10995   43  Hồ Chí Minh  Đang điều trị    Việt Nam"
      ]
     },
     "execution_count": 178,
     "metadata": {},
     "output_type": "execute_result"
    }
   ],
   "source": [
    "\n",
    "data.head()"
   ]
  },
  {
   "cell_type": "code",
   "execution_count": 179,
   "metadata": {},
   "outputs": [
    {
     "name": "stdout",
     "output_type": "stream",
     "text": [
      "<class 'pandas.core.frame.DataFrame'>\n",
      "RangeIndex: 11990 entries, 0 to 11989\n",
      "Data columns (total 5 columns):\n",
      " #   Column          Non-Null Count  Dtype \n",
      "---  ------          --------------  ----- \n",
      " 0   patient_number  11990 non-null  int64 \n",
      " 1   age             11990 non-null  int64 \n",
      " 2   province        11990 non-null  object\n",
      " 3   status          11990 non-null  object\n",
      " 4   nationality     11990 non-null  object\n",
      "dtypes: int64(2), object(3)\n",
      "memory usage: 468.5+ KB\n"
     ]
    }
   ],
   "source": [
    "data.info()"
   ]
  },
  {
   "cell_type": "code",
   "execution_count": 180,
   "metadata": {},
   "outputs": [
    {
     "data": {
      "text/plain": [
       "0        Đang điều trị\n",
       "1        Đang điều trị\n",
       "2        Đang điều trị\n",
       "3        Đang điều trị\n",
       "4        Đang điều trị\n",
       "             ...      \n",
       "11985             Khỏi\n",
       "11986             Khỏi\n",
       "11987             Khỏi\n",
       "11988             Khỏi\n",
       "11989             Khỏi\n",
       "Name: status, Length: 11990, dtype: object"
      ]
     },
     "execution_count": 180,
     "metadata": {},
     "output_type": "execute_result"
    }
   ],
   "source": [
    "data['status']"
   ]
  },
  {
   "cell_type": "markdown",
   "metadata": {},
   "source": [
    "<h2> 4. Translate to English </h2>"
   ]
  },
  {
   "cell_type": "code",
   "execution_count": 181,
   "metadata": {},
   "outputs": [],
   "source": [
    "import google_trans_new\n",
    "from google_trans_new import google_translator  "
   ]
  },
  {
   "cell_type": "markdown",
   "metadata": {},
   "source": [
    "Demo translate"
   ]
  },
  {
   "cell_type": "code",
   "execution_count": 182,
   "metadata": {},
   "outputs": [
    {
     "name": "stdout",
     "output_type": "stream",
     "text": [
      "Being treated \n"
     ]
    }
   ],
   "source": [
    "translator = google_translator()  \n",
    "print(translator.translate('Đang điều trị',lang_tgt='en'))"
   ]
  },
  {
   "cell_type": "markdown",
   "metadata": {},
   "source": [
    "Loop to translate all rows in Vietnamese to English"
   ]
  },
  {
   "cell_type": "code",
   "execution_count": 183,
   "metadata": {},
   "outputs": [],
   "source": [
    "translator = google_translator()\n",
    "translations = {}\n",
    "for column in data.columns[2:5]:\n",
    "    # Unique elements of the column\n",
    "    unique_elements = data[column].unique()\n",
    "    for element in unique_elements:\n",
    "        # Adding all the translations to a dictionary (translations)\n",
    "        translations[element] = translator.translate(element,lang_tgt='en')\n"
   ]
  },
  {
   "cell_type": "code",
   "execution_count": 184,
   "metadata": {},
   "outputs": [
    {
     "data": {
      "text/plain": [
       "{'Hồ Chí Minh': 'Ho Chi Minh ', 'Bắc Giang': 'Bac Giang ', 'Hà Nội': 'Hanoi '}"
      ]
     },
     "execution_count": 184,
     "metadata": {},
     "output_type": "execute_result"
    }
   ],
   "source": [
    "import itertools\n",
    "dict(itertools.islice(translations.items(), 3)) "
   ]
  },
  {
   "cell_type": "code",
   "execution_count": 185,
   "metadata": {},
   "outputs": [],
   "source": [
    "adj_dic = {'Thái Bình': 'Thai Binh','Hà Nam': 'Ha Nam ','Hoà Bình': 'Hoa Binh ',\n",
    "           'Gia Lai': 'Gia Lai','Bình Định': 'Binh Dinh','Khỏi': 'Recovered',\n",
    "           'Áo': 'Austria','Đức': 'Germany', 'U-dơ-bê-ki-xtan': 'Uzbekistan',\n",
    "           'Ba Lan': 'Poland','Nga': 'Russia','Bra-xin': 'Brazil','Li-bi': 'Libya',\n",
    "           'Nê-pan': 'Nepal ','Hung-ga-ri': 'Hungary ','Pháp': 'France ','Mi-an-ma': 'Myanmar',\n",
    "          'Lát-vi-a': 'Latvia', 'Moldova': 'Moldova', 'And Islands ':'Vietnam'}"
   ]
  },
  {
   "cell_type": "code",
   "execution_count": 186,
   "metadata": {},
   "outputs": [],
   "source": [
    "for i in translations.keys():\n",
    "    if i in adj_dic.keys():\n",
    "        translations[i] = adj_dic[i]"
   ]
  },
  {
   "cell_type": "code",
   "execution_count": 187,
   "metadata": {},
   "outputs": [],
   "source": [
    "data.replace(translations, inplace = True)"
   ]
  },
  {
   "cell_type": "code",
   "execution_count": 188,
   "metadata": {},
   "outputs": [
    {
     "data": {
      "text/html": [
       "<div>\n",
       "<style scoped>\n",
       "    .dataframe tbody tr th:only-of-type {\n",
       "        vertical-align: middle;\n",
       "    }\n",
       "\n",
       "    .dataframe tbody tr th {\n",
       "        vertical-align: top;\n",
       "    }\n",
       "\n",
       "    .dataframe thead th {\n",
       "        text-align: right;\n",
       "    }\n",
       "</style>\n",
       "<table border=\"1\" class=\"dataframe\">\n",
       "  <thead>\n",
       "    <tr style=\"text-align: right;\">\n",
       "      <th></th>\n",
       "      <th>patient_number</th>\n",
       "      <th>age</th>\n",
       "      <th>province</th>\n",
       "      <th>status</th>\n",
       "      <th>nationality</th>\n",
       "    </tr>\n",
       "  </thead>\n",
       "  <tbody>\n",
       "    <tr>\n",
       "      <th>0</th>\n",
       "      <td>10999</td>\n",
       "      <td>42</td>\n",
       "      <td>Ho Chi Minh</td>\n",
       "      <td>Being treated</td>\n",
       "      <td>Vietnam</td>\n",
       "    </tr>\n",
       "    <tr>\n",
       "      <th>1</th>\n",
       "      <td>10998</td>\n",
       "      <td>70</td>\n",
       "      <td>Ho Chi Minh</td>\n",
       "      <td>Being treated</td>\n",
       "      <td>Vietnam</td>\n",
       "    </tr>\n",
       "    <tr>\n",
       "      <th>2</th>\n",
       "      <td>10997</td>\n",
       "      <td>41</td>\n",
       "      <td>Ho Chi Minh</td>\n",
       "      <td>Being treated</td>\n",
       "      <td>Vietnam</td>\n",
       "    </tr>\n",
       "    <tr>\n",
       "      <th>3</th>\n",
       "      <td>10996</td>\n",
       "      <td>16</td>\n",
       "      <td>Ho Chi Minh</td>\n",
       "      <td>Being treated</td>\n",
       "      <td>Vietnam</td>\n",
       "    </tr>\n",
       "    <tr>\n",
       "      <th>4</th>\n",
       "      <td>10995</td>\n",
       "      <td>43</td>\n",
       "      <td>Ho Chi Minh</td>\n",
       "      <td>Being treated</td>\n",
       "      <td>Vietnam</td>\n",
       "    </tr>\n",
       "  </tbody>\n",
       "</table>\n",
       "</div>"
      ],
      "text/plain": [
       "   patient_number  age      province          status nationality\n",
       "0           10999   42  Ho Chi Minh   Being treated     Vietnam \n",
       "1           10998   70  Ho Chi Minh   Being treated     Vietnam \n",
       "2           10997   41  Ho Chi Minh   Being treated     Vietnam \n",
       "3           10996   16  Ho Chi Minh   Being treated     Vietnam \n",
       "4           10995   43  Ho Chi Minh   Being treated     Vietnam "
      ]
     },
     "execution_count": 188,
     "metadata": {},
     "output_type": "execute_result"
    }
   ],
   "source": [
    "data.head()"
   ]
  },
  {
   "cell_type": "markdown",
   "metadata": {},
   "source": [
    "<h2> 5. Basic EDA </h2>"
   ]
  },
  {
   "cell_type": "markdown",
   "metadata": {},
   "source": [
    "This is to explore answers for these questions:\n",
    "1. Number of cases by province and country\n",
    "2. Number of cases by status\n"
   ]
  },
  {
   "cell_type": "markdown",
   "metadata": {},
   "source": [
    "<b>1. Number of cases by province and country</b>"
   ]
  },
  {
   "cell_type": "code",
   "execution_count": 350,
   "metadata": {},
   "outputs": [
    {
     "data": {
      "text/plain": [
       "province\n",
       "Bac Giang           4317\n",
       "Bac Ninh            1417\n",
       "Ho Chi Minh         1248\n",
       "Hai Duong            812\n",
       "Hanoi                732\n",
       "Danang               654\n",
       "Khanh Hoa            145\n",
       "BA Ria Vung Tau      138\n",
       "Quang Nam            127\n",
       "Vinh Phuc            111\n",
       "Lang Son             101\n",
       "Quang Ninh            90\n",
       "Ha Tinh               77\n",
       "hung Yen              75\n",
       "Tay Ninh              65\n",
       "Thai Binh             63\n",
       "Kien Giang            63\n",
       "Dien Bien             59\n",
       "Binh Duong            58\n",
       "Ha Nam                55\n",
       "Bac Lieu              53\n",
       "Ninh Binh             40\n",
       "Tien Giang            35\n",
       "Can Tho               34\n",
       "Hoa Binh              33\n",
       "Dong Nai              31\n",
       "Dong Thap             29\n",
       "Gia Lai               28\n",
       "Thanh Hoa             28\n",
       "Phu Yen               28\n",
       "Long An               26\n",
       "Nam Dinh              25\n",
       "An Giang              21\n",
       "Ben tre               20\n",
       "Soc Trang             19\n",
       "Vinh Long             15\n",
       "Quang Tri             13\n",
       "Ninh Thuan            12\n",
       "Hai Phong             12\n",
       "Binh Thuan            11\n",
       "Tra Vinh              10\n",
       "Phu-Tho                8\n",
       "Ca Mau                 8\n",
       "Quang Ngai             8\n",
       "Thai Nguyen            8\n",
       "Dak Lak                7\n",
       "Nghe An                6\n",
       "Hue                    6\n",
       "Yen Bai                5\n",
       "Ha Giang               4\n",
       "Lao Cai                2\n",
       "Tuyen Quang            1\n",
       "Binh Dinh              1\n",
       "Bac Kan                1\n",
       "Lai Chau               1\n",
       "Son La                 1\n",
       "Name: patient_number, dtype: int64"
      ]
     },
     "execution_count": 350,
     "metadata": {},
     "output_type": "execute_result"
    }
   ],
   "source": [
    "data.groupby('province').patient_number.count().sort_values(ascending = False)"
   ]
  },
  {
   "cell_type": "code",
   "execution_count": 351,
   "metadata": {
    "scrolled": true
   },
   "outputs": [
    {
     "data": {
      "text/plain": [
       "nationality\n",
       "Vietnam                         10762\n",
       "India                              60\n",
       "Russia                             28\n",
       "UK                                 22\n",
       "China                              14\n",
       "USA                                12\n",
       "Philippines                        11\n",
       "South Africa                        8\n",
       "France                              7\n",
       "Brazil                              7\n",
       "Japan                               6\n",
       "Germany                             6\n",
       "Taiwan                              5\n",
       "Korea                               4\n",
       "Austria                             4\n",
       "Belarus                             3\n",
       "Turkey                              3\n",
       "Costa Rica Republic                 3\n",
       "Ukraine                             2\n",
       "Israel                              2\n",
       "And Islands                         2\n",
       "Myanmar                             2\n",
       "Pakistan                            2\n",
       "Australia                           1\n",
       "Uzbekistan                          1\n",
       "Poland                              1\n",
       "Switzerland                         1\n",
       "Sri Lanka                           1\n",
       "Canada                              1\n",
       "Singapore                           1\n",
       "Serbia and Montenegro               1\n",
       "Federal Republic of Nigeria         1\n",
       "Czech Republic                      1\n",
       "Hong Kong                           1\n",
       "Nepal                               1\n",
       "Moldova                             1\n",
       "Malaysia                            1\n",
       "Libya                               1\n",
       "Latvia                              1\n",
       "Denmark                             1\n",
       "Iran                                1\n",
       "Indonesia                           1\n",
       "Egypt                               1\n",
       "Iceland                             1\n",
       "Hungary                             1\n",
       "Algeria                             1\n",
       "Name: patient_number, dtype: int64"
      ]
     },
     "execution_count": 351,
     "metadata": {},
     "output_type": "execute_result"
    }
   ],
   "source": [
    "data.groupby('nationality').patient_number.count().sort_values(ascending = False)"
   ]
  },
  {
   "cell_type": "markdown",
   "metadata": {},
   "source": [
    "<b> 2. Number of cases by status </b>"
   ]
  },
  {
   "cell_type": "code",
   "execution_count": 352,
   "metadata": {},
   "outputs": [
    {
     "data": {
      "text/plain": [
       "status\n",
       "Being treated     6700\n",
       "Dead                59\n",
       "Other                4\n",
       "Recovered         4236\n",
       "Name: patient_number, dtype: int64"
      ]
     },
     "execution_count": 352,
     "metadata": {},
     "output_type": "execute_result"
    }
   ],
   "source": [
    "data.groupby('status').patient_number.count()"
   ]
  },
  {
   "cell_type": "code",
   "execution_count": 353,
   "metadata": {},
   "outputs": [
    {
     "data": {
      "text/html": [
       "<div>\n",
       "<style scoped>\n",
       "    .dataframe tbody tr th:only-of-type {\n",
       "        vertical-align: middle;\n",
       "    }\n",
       "\n",
       "    .dataframe tbody tr th {\n",
       "        vertical-align: top;\n",
       "    }\n",
       "\n",
       "    .dataframe thead th {\n",
       "        text-align: right;\n",
       "    }\n",
       "</style>\n",
       "<table border=\"1\" class=\"dataframe\">\n",
       "  <thead>\n",
       "    <tr style=\"text-align: right;\">\n",
       "      <th></th>\n",
       "      <th>patient_number</th>\n",
       "      <th>age</th>\n",
       "      <th>province</th>\n",
       "      <th>status</th>\n",
       "      <th>nationality</th>\n",
       "    </tr>\n",
       "  </thead>\n",
       "  <tbody>\n",
       "    <tr>\n",
       "      <th>10681</th>\n",
       "      <td>418</td>\n",
       "      <td>61</td>\n",
       "      <td>Danang</td>\n",
       "      <td>Other</td>\n",
       "      <td>Vietnam</td>\n",
       "    </tr>\n",
       "    <tr>\n",
       "      <th>10646</th>\n",
       "      <td>453</td>\n",
       "      <td>56</td>\n",
       "      <td>Danang</td>\n",
       "      <td>Other</td>\n",
       "      <td>Vietnam</td>\n",
       "    </tr>\n",
       "    <tr>\n",
       "      <th>10335</th>\n",
       "      <td>764</td>\n",
       "      <td>67</td>\n",
       "      <td>Danang</td>\n",
       "      <td>Other</td>\n",
       "      <td>Vietnam</td>\n",
       "    </tr>\n",
       "    <tr>\n",
       "      <th>8870</th>\n",
       "      <td>2229</td>\n",
       "      <td>54</td>\n",
       "      <td>Hanoi</td>\n",
       "      <td>Other</td>\n",
       "      <td>Japan</td>\n",
       "    </tr>\n",
       "  </tbody>\n",
       "</table>\n",
       "</div>"
      ],
      "text/plain": [
       "       patient_number  age province  status nationality\n",
       "10681             418   61  Danang   Other     Vietnam \n",
       "10646             453   56  Danang   Other     Vietnam \n",
       "10335             764   67  Danang   Other     Vietnam \n",
       "8870             2229   54   Hanoi   Other       Japan "
      ]
     },
     "execution_count": 353,
     "metadata": {},
     "output_type": "execute_result"
    }
   ],
   "source": [
    "data[data.status == 'Other ']"
   ]
  },
  {
   "cell_type": "markdown",
   "metadata": {},
   "source": [
    "Status \"Other\" are used to refer to 4 patients that die because of other reason not covid\n",
    "+ Patient 418: died because of chronic kidney disease ( 4 times negative test covid)\n",
    "+ Patient 453: died because of chronic kidney disease, pneumonia, heart failure, stroke ( 3 times negative test covid)\n",
    "+ Patient 764: died because of chronic kidney disease,hypertension, stroke ( 3 times negative test covid)\n",
    "+ Patient 2229: died unknown reason ( 2 times negative test covid)"
   ]
  },
  {
   "cell_type": "markdown",
   "metadata": {},
   "source": [
    "<b> 3. Total cases </b>"
   ]
  },
  {
   "cell_type": "code",
   "execution_count": 354,
   "metadata": {},
   "outputs": [
    {
     "data": {
      "text/html": [
       "<div>\n",
       "<style scoped>\n",
       "    .dataframe tbody tr th:only-of-type {\n",
       "        vertical-align: middle;\n",
       "    }\n",
       "\n",
       "    .dataframe tbody tr th {\n",
       "        vertical-align: top;\n",
       "    }\n",
       "\n",
       "    .dataframe thead th {\n",
       "        text-align: right;\n",
       "    }\n",
       "</style>\n",
       "<table border=\"1\" class=\"dataframe\">\n",
       "  <thead>\n",
       "    <tr style=\"text-align: right;\">\n",
       "      <th></th>\n",
       "      <th>patient_number</th>\n",
       "      <th>age</th>\n",
       "      <th>province</th>\n",
       "      <th>status</th>\n",
       "      <th>nationality</th>\n",
       "    </tr>\n",
       "  </thead>\n",
       "  <tbody>\n",
       "    <tr>\n",
       "      <th>11098</th>\n",
       "      <td>1</td>\n",
       "      <td>66</td>\n",
       "      <td>Ho Chi Minh</td>\n",
       "      <td>Recovered</td>\n",
       "      <td>China</td>\n",
       "    </tr>\n",
       "    <tr>\n",
       "      <th>11097</th>\n",
       "      <td>2</td>\n",
       "      <td>28</td>\n",
       "      <td>Ho Chi Minh</td>\n",
       "      <td>Recovered</td>\n",
       "      <td>China</td>\n",
       "    </tr>\n",
       "    <tr>\n",
       "      <th>11096</th>\n",
       "      <td>3</td>\n",
       "      <td>25</td>\n",
       "      <td>Thanh Hoa</td>\n",
       "      <td>Recovered</td>\n",
       "      <td>Vietnam</td>\n",
       "    </tr>\n",
       "    <tr>\n",
       "      <th>11095</th>\n",
       "      <td>4</td>\n",
       "      <td>29</td>\n",
       "      <td>Vinh Phuc</td>\n",
       "      <td>Recovered</td>\n",
       "      <td>Vietnam</td>\n",
       "    </tr>\n",
       "    <tr>\n",
       "      <th>11094</th>\n",
       "      <td>5</td>\n",
       "      <td>23</td>\n",
       "      <td>Vinh Phuc</td>\n",
       "      <td>Recovered</td>\n",
       "      <td>Vietnam</td>\n",
       "    </tr>\n",
       "    <tr>\n",
       "      <th>...</th>\n",
       "      <td>...</td>\n",
       "      <td>...</td>\n",
       "      <td>...</td>\n",
       "      <td>...</td>\n",
       "      <td>...</td>\n",
       "    </tr>\n",
       "    <tr>\n",
       "      <th>4</th>\n",
       "      <td>10995</td>\n",
       "      <td>43</td>\n",
       "      <td>Ho Chi Minh</td>\n",
       "      <td>Being treated</td>\n",
       "      <td>Vietnam</td>\n",
       "    </tr>\n",
       "    <tr>\n",
       "      <th>3</th>\n",
       "      <td>10996</td>\n",
       "      <td>16</td>\n",
       "      <td>Ho Chi Minh</td>\n",
       "      <td>Being treated</td>\n",
       "      <td>Vietnam</td>\n",
       "    </tr>\n",
       "    <tr>\n",
       "      <th>2</th>\n",
       "      <td>10997</td>\n",
       "      <td>41</td>\n",
       "      <td>Ho Chi Minh</td>\n",
       "      <td>Being treated</td>\n",
       "      <td>Vietnam</td>\n",
       "    </tr>\n",
       "    <tr>\n",
       "      <th>1</th>\n",
       "      <td>10998</td>\n",
       "      <td>70</td>\n",
       "      <td>Ho Chi Minh</td>\n",
       "      <td>Being treated</td>\n",
       "      <td>Vietnam</td>\n",
       "    </tr>\n",
       "    <tr>\n",
       "      <th>0</th>\n",
       "      <td>10999</td>\n",
       "      <td>42</td>\n",
       "      <td>Ho Chi Minh</td>\n",
       "      <td>Being treated</td>\n",
       "      <td>Vietnam</td>\n",
       "    </tr>\n",
       "  </tbody>\n",
       "</table>\n",
       "<p>10999 rows × 5 columns</p>\n",
       "</div>"
      ],
      "text/plain": [
       "       patient_number  age      province          status nationality\n",
       "11098               1   66  Ho Chi Minh        Recovered      China \n",
       "11097               2   28  Ho Chi Minh        Recovered      China \n",
       "11096               3   25    Thanh Hoa        Recovered    Vietnam \n",
       "11095               4   29    Vinh Phuc        Recovered    Vietnam \n",
       "11094               5   23    Vinh Phuc        Recovered    Vietnam \n",
       "...               ...  ...           ...             ...         ...\n",
       "4               10995   43  Ho Chi Minh   Being treated     Vietnam \n",
       "3               10996   16  Ho Chi Minh   Being treated     Vietnam \n",
       "2               10997   41  Ho Chi Minh   Being treated     Vietnam \n",
       "1               10998   70  Ho Chi Minh   Being treated     Vietnam \n",
       "0               10999   42  Ho Chi Minh   Being treated     Vietnam \n",
       "\n",
       "[10999 rows x 5 columns]"
      ]
     },
     "execution_count": 354,
     "metadata": {},
     "output_type": "execute_result"
    }
   ],
   "source": [
    "data"
   ]
  },
  {
   "cell_type": "code",
   "execution_count": 191,
   "metadata": {},
   "outputs": [],
   "source": [
    "#data.to_csv(\"data15jun.csv\")"
   ]
  },
  {
   "cell_type": "code",
   "execution_count": 278,
   "metadata": {},
   "outputs": [],
   "source": [
    "#data = pd.read_csv(\"data15jun.csv\")"
   ]
  },
  {
   "cell_type": "code",
   "execution_count": 303,
   "metadata": {},
   "outputs": [],
   "source": [
    "#dailycase(dc)\n",
    "gitlink = \"https://raw.githubusercontent.com/CSSEGISandData/COVID-19/master/csse_covid_19_data/csse_covid_19_time_series/time_series_covid19_confirmed_global.csv\"\n",
    "\n",
    "dc = pd.read_csv(gitlink)\n"
   ]
  },
  {
   "cell_type": "code",
   "execution_count": 304,
   "metadata": {},
   "outputs": [],
   "source": [
    "dc =dc[dc['Country/Region']=='Vietnam']\n",
    "dc.rename(index= str, columns = {\"Country/Region\": \"Country\"}, inplace = True)\n",
    "dc.drop(columns = ['Country','Lat', 'Long','Province/State'], axis = 1, inplace = True)"
   ]
  },
  {
   "cell_type": "code",
   "execution_count": 305,
   "metadata": {},
   "outputs": [],
   "source": [
    "dc = dc.melt( \n",
    "        var_name=\"Date\", \n",
    "        value_name=\"Cases\")"
   ]
  },
  {
   "cell_type": "code",
   "execution_count": 306,
   "metadata": {},
   "outputs": [
    {
     "data": {
      "text/html": [
       "<div>\n",
       "<style scoped>\n",
       "    .dataframe tbody tr th:only-of-type {\n",
       "        vertical-align: middle;\n",
       "    }\n",
       "\n",
       "    .dataframe tbody tr th {\n",
       "        vertical-align: top;\n",
       "    }\n",
       "\n",
       "    .dataframe thead th {\n",
       "        text-align: right;\n",
       "    }\n",
       "</style>\n",
       "<table border=\"1\" class=\"dataframe\">\n",
       "  <thead>\n",
       "    <tr style=\"text-align: right;\">\n",
       "      <th></th>\n",
       "      <th>Date</th>\n",
       "      <th>Cases</th>\n",
       "    </tr>\n",
       "  </thead>\n",
       "  <tbody>\n",
       "    <tr>\n",
       "      <th>0</th>\n",
       "      <td>1/22/20</td>\n",
       "      <td>0</td>\n",
       "    </tr>\n",
       "    <tr>\n",
       "      <th>1</th>\n",
       "      <td>1/23/20</td>\n",
       "      <td>2</td>\n",
       "    </tr>\n",
       "    <tr>\n",
       "      <th>2</th>\n",
       "      <td>1/24/20</td>\n",
       "      <td>2</td>\n",
       "    </tr>\n",
       "    <tr>\n",
       "      <th>3</th>\n",
       "      <td>1/25/20</td>\n",
       "      <td>2</td>\n",
       "    </tr>\n",
       "    <tr>\n",
       "      <th>4</th>\n",
       "      <td>1/26/20</td>\n",
       "      <td>2</td>\n",
       "    </tr>\n",
       "    <tr>\n",
       "      <th>...</th>\n",
       "      <td>...</td>\n",
       "      <td>...</td>\n",
       "    </tr>\n",
       "    <tr>\n",
       "      <th>505</th>\n",
       "      <td>6/10/21</td>\n",
       "      <td>9835</td>\n",
       "    </tr>\n",
       "    <tr>\n",
       "      <th>506</th>\n",
       "      <td>6/11/21</td>\n",
       "      <td>10048</td>\n",
       "    </tr>\n",
       "    <tr>\n",
       "      <th>507</th>\n",
       "      <td>6/12/21</td>\n",
       "      <td>10337</td>\n",
       "    </tr>\n",
       "    <tr>\n",
       "      <th>508</th>\n",
       "      <td>6/13/21</td>\n",
       "      <td>10630</td>\n",
       "    </tr>\n",
       "    <tr>\n",
       "      <th>509</th>\n",
       "      <td>6/14/21</td>\n",
       "      <td>10881</td>\n",
       "    </tr>\n",
       "  </tbody>\n",
       "</table>\n",
       "<p>510 rows × 2 columns</p>\n",
       "</div>"
      ],
      "text/plain": [
       "        Date  Cases\n",
       "0    1/22/20      0\n",
       "1    1/23/20      2\n",
       "2    1/24/20      2\n",
       "3    1/25/20      2\n",
       "4    1/26/20      2\n",
       "..       ...    ...\n",
       "505  6/10/21   9835\n",
       "506  6/11/21  10048\n",
       "507  6/12/21  10337\n",
       "508  6/13/21  10630\n",
       "509  6/14/21  10881\n",
       "\n",
       "[510 rows x 2 columns]"
      ]
     },
     "execution_count": 306,
     "metadata": {},
     "output_type": "execute_result"
    }
   ],
   "source": [
    "dc"
   ]
  },
  {
   "cell_type": "code",
   "execution_count": 307,
   "metadata": {},
   "outputs": [
    {
     "name": "stdout",
     "output_type": "stream",
     "text": [
      "<class 'pandas.core.frame.DataFrame'>\n",
      "RangeIndex: 11990 entries, 0 to 11989\n",
      "Data columns (total 6 columns):\n",
      " #   Column          Non-Null Count  Dtype \n",
      "---  ------          --------------  ----- \n",
      " 0   Unnamed: 0      11990 non-null  int64 \n",
      " 1   patient_number  11990 non-null  int64 \n",
      " 2   age             11990 non-null  int64 \n",
      " 3   province        11988 non-null  object\n",
      " 4   status          11990 non-null  object\n",
      " 5   nationality     11989 non-null  object\n",
      "dtypes: int64(3), object(3)\n",
      "memory usage: 562.2+ KB\n"
     ]
    }
   ],
   "source": [
    "data.info()"
   ]
  },
  {
   "cell_type": "code",
   "execution_count": 308,
   "metadata": {},
   "outputs": [],
   "source": [
    "data.drop(['Unnamed: 0'], axis = 1, inplace = True)\n",
    "data.drop_duplicates(inplace = True)"
   ]
  },
  {
   "cell_type": "code",
   "execution_count": 309,
   "metadata": {
    "tags": []
   },
   "outputs": [
    {
     "data": {
      "text/html": [
       "<div>\n",
       "<style scoped>\n",
       "    .dataframe tbody tr th:only-of-type {\n",
       "        vertical-align: middle;\n",
       "    }\n",
       "\n",
       "    .dataframe tbody tr th {\n",
       "        vertical-align: top;\n",
       "    }\n",
       "\n",
       "    .dataframe thead th {\n",
       "        text-align: right;\n",
       "    }\n",
       "</style>\n",
       "<table border=\"1\" class=\"dataframe\">\n",
       "  <thead>\n",
       "    <tr style=\"text-align: right;\">\n",
       "      <th></th>\n",
       "      <th>patient_number</th>\n",
       "      <th>age</th>\n",
       "      <th>province</th>\n",
       "      <th>status</th>\n",
       "      <th>nationality</th>\n",
       "    </tr>\n",
       "  </thead>\n",
       "  <tbody>\n",
       "    <tr>\n",
       "      <th>11098</th>\n",
       "      <td>1</td>\n",
       "      <td>66</td>\n",
       "      <td>Ho Chi Minh</td>\n",
       "      <td>Recovered</td>\n",
       "      <td>China</td>\n",
       "    </tr>\n",
       "    <tr>\n",
       "      <th>11097</th>\n",
       "      <td>2</td>\n",
       "      <td>28</td>\n",
       "      <td>Ho Chi Minh</td>\n",
       "      <td>Recovered</td>\n",
       "      <td>China</td>\n",
       "    </tr>\n",
       "    <tr>\n",
       "      <th>11096</th>\n",
       "      <td>3</td>\n",
       "      <td>25</td>\n",
       "      <td>Thanh Hoa</td>\n",
       "      <td>Recovered</td>\n",
       "      <td>Vietnam</td>\n",
       "    </tr>\n",
       "    <tr>\n",
       "      <th>11095</th>\n",
       "      <td>4</td>\n",
       "      <td>29</td>\n",
       "      <td>Vinh Phuc</td>\n",
       "      <td>Recovered</td>\n",
       "      <td>Vietnam</td>\n",
       "    </tr>\n",
       "    <tr>\n",
       "      <th>11094</th>\n",
       "      <td>5</td>\n",
       "      <td>23</td>\n",
       "      <td>Vinh Phuc</td>\n",
       "      <td>Recovered</td>\n",
       "      <td>Vietnam</td>\n",
       "    </tr>\n",
       "    <tr>\n",
       "      <th>...</th>\n",
       "      <td>...</td>\n",
       "      <td>...</td>\n",
       "      <td>...</td>\n",
       "      <td>...</td>\n",
       "      <td>...</td>\n",
       "    </tr>\n",
       "    <tr>\n",
       "      <th>11003</th>\n",
       "      <td>96</td>\n",
       "      <td>21</td>\n",
       "      <td>Ho Chi Minh</td>\n",
       "      <td>Recovered</td>\n",
       "      <td>Vietnam</td>\n",
       "    </tr>\n",
       "    <tr>\n",
       "      <th>11002</th>\n",
       "      <td>97</td>\n",
       "      <td>34</td>\n",
       "      <td>Ho Chi Minh</td>\n",
       "      <td>Recovered</td>\n",
       "      <td>UK</td>\n",
       "    </tr>\n",
       "    <tr>\n",
       "      <th>11001</th>\n",
       "      <td>98</td>\n",
       "      <td>34</td>\n",
       "      <td>Ho Chi Minh</td>\n",
       "      <td>Recovered</td>\n",
       "      <td>UK</td>\n",
       "    </tr>\n",
       "    <tr>\n",
       "      <th>11000</th>\n",
       "      <td>99</td>\n",
       "      <td>29</td>\n",
       "      <td>Ho Chi Minh</td>\n",
       "      <td>Recovered</td>\n",
       "      <td>Vietnam</td>\n",
       "    </tr>\n",
       "    <tr>\n",
       "      <th>10999</th>\n",
       "      <td>100</td>\n",
       "      <td>55</td>\n",
       "      <td>Ho Chi Minh</td>\n",
       "      <td>Recovered</td>\n",
       "      <td>Vietnam</td>\n",
       "    </tr>\n",
       "  </tbody>\n",
       "</table>\n",
       "<p>100 rows × 5 columns</p>\n",
       "</div>"
      ],
      "text/plain": [
       "       patient_number  age      province     status nationality\n",
       "11098               1   66  Ho Chi Minh   Recovered      China \n",
       "11097               2   28  Ho Chi Minh   Recovered      China \n",
       "11096               3   25    Thanh Hoa   Recovered    Vietnam \n",
       "11095               4   29    Vinh Phuc   Recovered    Vietnam \n",
       "11094               5   23    Vinh Phuc   Recovered    Vietnam \n",
       "...               ...  ...           ...        ...         ...\n",
       "11003              96   21  Ho Chi Minh   Recovered    Vietnam \n",
       "11002              97   34  Ho Chi Minh   Recovered         UK \n",
       "11001              98   34  Ho Chi Minh   Recovered         UK \n",
       "11000              99   29  Ho Chi Minh   Recovered    Vietnam \n",
       "10999             100   55  Ho Chi Minh   Recovered    Vietnam \n",
       "\n",
       "[100 rows x 5 columns]"
      ]
     },
     "execution_count": 309,
     "metadata": {},
     "output_type": "execute_result"
    }
   ],
   "source": [
    "data.sort_values('patient_number', ascending = True).head(100)"
   ]
  },
  {
   "cell_type": "code",
   "execution_count": 312,
   "metadata": {},
   "outputs": [],
   "source": [
    "dc.drop_duplicates(subset = ['Cases'] ,keep = 'first', inplace= True)"
   ]
  },
  {
   "cell_type": "code",
   "execution_count": null,
   "metadata": {},
   "outputs": [],
   "source": [
    "data.loc[data.patient_number == 92859285,'patient_number']=9285\n"
   ]
  },
  {
   "cell_type": "code",
   "execution_count": 341,
   "metadata": {},
   "outputs": [],
   "source": [
    "data = data.sort_values('patient_number')"
   ]
  },
  {
   "cell_type": "code",
   "execution_count": 338,
   "metadata": {},
   "outputs": [
    {
     "data": {
      "text/html": [
       "<div>\n",
       "<style scoped>\n",
       "    .dataframe tbody tr th:only-of-type {\n",
       "        vertical-align: middle;\n",
       "    }\n",
       "\n",
       "    .dataframe tbody tr th {\n",
       "        vertical-align: top;\n",
       "    }\n",
       "\n",
       "    .dataframe thead th {\n",
       "        text-align: right;\n",
       "    }\n",
       "</style>\n",
       "<table border=\"1\" class=\"dataframe\">\n",
       "  <thead>\n",
       "    <tr style=\"text-align: right;\">\n",
       "      <th></th>\n",
       "      <th>patient_number</th>\n",
       "      <th>age</th>\n",
       "      <th>province</th>\n",
       "      <th>status</th>\n",
       "      <th>nationality</th>\n",
       "    </tr>\n",
       "  </thead>\n",
       "  <tbody>\n",
       "    <tr>\n",
       "      <th>11098</th>\n",
       "      <td>1</td>\n",
       "      <td>66</td>\n",
       "      <td>Ho Chi Minh</td>\n",
       "      <td>Recovered</td>\n",
       "      <td>China</td>\n",
       "    </tr>\n",
       "    <tr>\n",
       "      <th>11097</th>\n",
       "      <td>2</td>\n",
       "      <td>28</td>\n",
       "      <td>Ho Chi Minh</td>\n",
       "      <td>Recovered</td>\n",
       "      <td>China</td>\n",
       "    </tr>\n",
       "    <tr>\n",
       "      <th>11096</th>\n",
       "      <td>3</td>\n",
       "      <td>25</td>\n",
       "      <td>Thanh Hoa</td>\n",
       "      <td>Recovered</td>\n",
       "      <td>Vietnam</td>\n",
       "    </tr>\n",
       "    <tr>\n",
       "      <th>11095</th>\n",
       "      <td>4</td>\n",
       "      <td>29</td>\n",
       "      <td>Vinh Phuc</td>\n",
       "      <td>Recovered</td>\n",
       "      <td>Vietnam</td>\n",
       "    </tr>\n",
       "    <tr>\n",
       "      <th>11094</th>\n",
       "      <td>5</td>\n",
       "      <td>23</td>\n",
       "      <td>Vinh Phuc</td>\n",
       "      <td>Recovered</td>\n",
       "      <td>Vietnam</td>\n",
       "    </tr>\n",
       "  </tbody>\n",
       "</table>\n",
       "</div>"
      ],
      "text/plain": [
       "       patient_number  age      province     status nationality\n",
       "11098               1   66  Ho Chi Minh   Recovered      China \n",
       "11097               2   28  Ho Chi Minh   Recovered      China \n",
       "11096               3   25    Thanh Hoa   Recovered    Vietnam \n",
       "11095               4   29    Vinh Phuc   Recovered    Vietnam \n",
       "11094               5   23    Vinh Phuc   Recovered    Vietnam "
      ]
     },
     "execution_count": 338,
     "metadata": {},
     "output_type": "execute_result"
    }
   ],
   "source": [
    "data.head()"
   ]
  },
  {
   "cell_type": "code",
   "execution_count": 315,
   "metadata": {},
   "outputs": [],
   "source": [
    "dc.drop([0], inplace = True)"
   ]
  },
  {
   "cell_type": "code",
   "execution_count": 316,
   "metadata": {},
   "outputs": [
    {
     "data": {
      "text/html": [
       "<div>\n",
       "<style scoped>\n",
       "    .dataframe tbody tr th:only-of-type {\n",
       "        vertical-align: middle;\n",
       "    }\n",
       "\n",
       "    .dataframe tbody tr th {\n",
       "        vertical-align: top;\n",
       "    }\n",
       "\n",
       "    .dataframe thead th {\n",
       "        text-align: right;\n",
       "    }\n",
       "</style>\n",
       "<table border=\"1\" class=\"dataframe\">\n",
       "  <thead>\n",
       "    <tr style=\"text-align: right;\">\n",
       "      <th></th>\n",
       "      <th>Date</th>\n",
       "      <th>Cases</th>\n",
       "    </tr>\n",
       "  </thead>\n",
       "  <tbody>\n",
       "    <tr>\n",
       "      <th>1</th>\n",
       "      <td>1/23/20</td>\n",
       "      <td>2</td>\n",
       "    </tr>\n",
       "    <tr>\n",
       "      <th>10</th>\n",
       "      <td>2/1/20</td>\n",
       "      <td>6</td>\n",
       "    </tr>\n",
       "    <tr>\n",
       "      <th>12</th>\n",
       "      <td>2/3/20</td>\n",
       "      <td>8</td>\n",
       "    </tr>\n",
       "    <tr>\n",
       "      <th>15</th>\n",
       "      <td>2/6/20</td>\n",
       "      <td>10</td>\n",
       "    </tr>\n",
       "    <tr>\n",
       "      <th>17</th>\n",
       "      <td>2/8/20</td>\n",
       "      <td>13</td>\n",
       "    </tr>\n",
       "  </tbody>\n",
       "</table>\n",
       "</div>"
      ],
      "text/plain": [
       "       Date  Cases\n",
       "1   1/23/20      2\n",
       "10   2/1/20      6\n",
       "12   2/3/20      8\n",
       "15   2/6/20     10\n",
       "17   2/8/20     13"
      ]
     },
     "execution_count": 316,
     "metadata": {},
     "output_type": "execute_result"
    }
   ],
   "source": [
    "dc.head()"
   ]
  },
  {
   "cell_type": "code",
   "execution_count": 342,
   "metadata": {},
   "outputs": [],
   "source": [
    "df =pd.merge_asof(data, dc, direction=\"forward\", left_on='patient_number', right_on='Cases' )"
   ]
  },
  {
   "cell_type": "code",
   "execution_count": 343,
   "metadata": {},
   "outputs": [
    {
     "data": {
      "text/html": [
       "<div>\n",
       "<style scoped>\n",
       "    .dataframe tbody tr th:only-of-type {\n",
       "        vertical-align: middle;\n",
       "    }\n",
       "\n",
       "    .dataframe tbody tr th {\n",
       "        vertical-align: top;\n",
       "    }\n",
       "\n",
       "    .dataframe thead th {\n",
       "        text-align: right;\n",
       "    }\n",
       "</style>\n",
       "<table border=\"1\" class=\"dataframe\">\n",
       "  <thead>\n",
       "    <tr style=\"text-align: right;\">\n",
       "      <th></th>\n",
       "      <th>patient_number</th>\n",
       "      <th>age</th>\n",
       "      <th>province</th>\n",
       "      <th>status</th>\n",
       "      <th>nationality</th>\n",
       "      <th>Date</th>\n",
       "      <th>Cases</th>\n",
       "    </tr>\n",
       "  </thead>\n",
       "  <tbody>\n",
       "    <tr>\n",
       "      <th>0</th>\n",
       "      <td>1</td>\n",
       "      <td>66</td>\n",
       "      <td>Ho Chi Minh</td>\n",
       "      <td>Recovered</td>\n",
       "      <td>China</td>\n",
       "      <td>1/23/20</td>\n",
       "      <td>2.0</td>\n",
       "    </tr>\n",
       "    <tr>\n",
       "      <th>1</th>\n",
       "      <td>2</td>\n",
       "      <td>28</td>\n",
       "      <td>Ho Chi Minh</td>\n",
       "      <td>Recovered</td>\n",
       "      <td>China</td>\n",
       "      <td>1/23/20</td>\n",
       "      <td>2.0</td>\n",
       "    </tr>\n",
       "    <tr>\n",
       "      <th>2</th>\n",
       "      <td>3</td>\n",
       "      <td>25</td>\n",
       "      <td>Thanh Hoa</td>\n",
       "      <td>Recovered</td>\n",
       "      <td>Vietnam</td>\n",
       "      <td>2/1/20</td>\n",
       "      <td>6.0</td>\n",
       "    </tr>\n",
       "    <tr>\n",
       "      <th>3</th>\n",
       "      <td>4</td>\n",
       "      <td>29</td>\n",
       "      <td>Vinh Phuc</td>\n",
       "      <td>Recovered</td>\n",
       "      <td>Vietnam</td>\n",
       "      <td>2/1/20</td>\n",
       "      <td>6.0</td>\n",
       "    </tr>\n",
       "    <tr>\n",
       "      <th>4</th>\n",
       "      <td>5</td>\n",
       "      <td>23</td>\n",
       "      <td>Vinh Phuc</td>\n",
       "      <td>Recovered</td>\n",
       "      <td>Vietnam</td>\n",
       "      <td>2/1/20</td>\n",
       "      <td>6.0</td>\n",
       "    </tr>\n",
       "  </tbody>\n",
       "</table>\n",
       "</div>"
      ],
      "text/plain": [
       "   patient_number  age      province     status nationality     Date  Cases\n",
       "0               1   66  Ho Chi Minh   Recovered      China   1/23/20    2.0\n",
       "1               2   28  Ho Chi Minh   Recovered      China   1/23/20    2.0\n",
       "2               3   25    Thanh Hoa   Recovered    Vietnam    2/1/20    6.0\n",
       "3               4   29    Vinh Phuc   Recovered    Vietnam    2/1/20    6.0\n",
       "4               5   23    Vinh Phuc   Recovered    Vietnam    2/1/20    6.0"
      ]
     },
     "execution_count": 343,
     "metadata": {},
     "output_type": "execute_result"
    }
   ],
   "source": [
    "df.head()"
   ]
  },
  {
   "cell_type": "code",
   "execution_count": 346,
   "metadata": {},
   "outputs": [],
   "source": [
    "df.loc[df.Cases.isna(),'Date']='6/15/21'"
   ]
  },
  {
   "cell_type": "code",
   "execution_count": 347,
   "metadata": {},
   "outputs": [],
   "source": [
    "df.loc[df.Cases.isna(),'Cases']=10999"
   ]
  },
  {
   "cell_type": "code",
   "execution_count": 349,
   "metadata": {},
   "outputs": [
    {
     "data": {
      "text/html": [
       "<div>\n",
       "<style scoped>\n",
       "    .dataframe tbody tr th:only-of-type {\n",
       "        vertical-align: middle;\n",
       "    }\n",
       "\n",
       "    .dataframe tbody tr th {\n",
       "        vertical-align: top;\n",
       "    }\n",
       "\n",
       "    .dataframe thead th {\n",
       "        text-align: right;\n",
       "    }\n",
       "</style>\n",
       "<table border=\"1\" class=\"dataframe\">\n",
       "  <thead>\n",
       "    <tr style=\"text-align: right;\">\n",
       "      <th></th>\n",
       "      <th>patient_number</th>\n",
       "      <th>age</th>\n",
       "      <th>province</th>\n",
       "      <th>status</th>\n",
       "      <th>nationality</th>\n",
       "      <th>Date</th>\n",
       "      <th>Cases</th>\n",
       "    </tr>\n",
       "  </thead>\n",
       "  <tbody>\n",
       "    <tr>\n",
       "      <th>10849</th>\n",
       "      <td>10850</td>\n",
       "      <td>28</td>\n",
       "      <td>Bac Giang</td>\n",
       "      <td>Being treated</td>\n",
       "      <td>Vietnam</td>\n",
       "      <td>6/14/21</td>\n",
       "      <td>10881.0</td>\n",
       "    </tr>\n",
       "    <tr>\n",
       "      <th>10850</th>\n",
       "      <td>10851</td>\n",
       "      <td>34</td>\n",
       "      <td>Bac Giang</td>\n",
       "      <td>Being treated</td>\n",
       "      <td>Vietnam</td>\n",
       "      <td>6/14/21</td>\n",
       "      <td>10881.0</td>\n",
       "    </tr>\n",
       "    <tr>\n",
       "      <th>10851</th>\n",
       "      <td>10852</td>\n",
       "      <td>19</td>\n",
       "      <td>Bac Giang</td>\n",
       "      <td>Being treated</td>\n",
       "      <td>Vietnam</td>\n",
       "      <td>6/14/21</td>\n",
       "      <td>10881.0</td>\n",
       "    </tr>\n",
       "    <tr>\n",
       "      <th>10852</th>\n",
       "      <td>10853</td>\n",
       "      <td>32</td>\n",
       "      <td>Bac Giang</td>\n",
       "      <td>Being treated</td>\n",
       "      <td>Vietnam</td>\n",
       "      <td>6/14/21</td>\n",
       "      <td>10881.0</td>\n",
       "    </tr>\n",
       "    <tr>\n",
       "      <th>10853</th>\n",
       "      <td>10854</td>\n",
       "      <td>28</td>\n",
       "      <td>Bac Giang</td>\n",
       "      <td>Being treated</td>\n",
       "      <td>Vietnam</td>\n",
       "      <td>6/14/21</td>\n",
       "      <td>10881.0</td>\n",
       "    </tr>\n",
       "    <tr>\n",
       "      <th>...</th>\n",
       "      <td>...</td>\n",
       "      <td>...</td>\n",
       "      <td>...</td>\n",
       "      <td>...</td>\n",
       "      <td>...</td>\n",
       "      <td>...</td>\n",
       "      <td>...</td>\n",
       "    </tr>\n",
       "    <tr>\n",
       "      <th>10994</th>\n",
       "      <td>10995</td>\n",
       "      <td>43</td>\n",
       "      <td>Ho Chi Minh</td>\n",
       "      <td>Being treated</td>\n",
       "      <td>Vietnam</td>\n",
       "      <td>6/15/21</td>\n",
       "      <td>10999.0</td>\n",
       "    </tr>\n",
       "    <tr>\n",
       "      <th>10995</th>\n",
       "      <td>10996</td>\n",
       "      <td>16</td>\n",
       "      <td>Ho Chi Minh</td>\n",
       "      <td>Being treated</td>\n",
       "      <td>Vietnam</td>\n",
       "      <td>6/15/21</td>\n",
       "      <td>10999.0</td>\n",
       "    </tr>\n",
       "    <tr>\n",
       "      <th>10996</th>\n",
       "      <td>10997</td>\n",
       "      <td>41</td>\n",
       "      <td>Ho Chi Minh</td>\n",
       "      <td>Being treated</td>\n",
       "      <td>Vietnam</td>\n",
       "      <td>6/15/21</td>\n",
       "      <td>10999.0</td>\n",
       "    </tr>\n",
       "    <tr>\n",
       "      <th>10997</th>\n",
       "      <td>10998</td>\n",
       "      <td>70</td>\n",
       "      <td>Ho Chi Minh</td>\n",
       "      <td>Being treated</td>\n",
       "      <td>Vietnam</td>\n",
       "      <td>6/15/21</td>\n",
       "      <td>10999.0</td>\n",
       "    </tr>\n",
       "    <tr>\n",
       "      <th>10998</th>\n",
       "      <td>10999</td>\n",
       "      <td>42</td>\n",
       "      <td>Ho Chi Minh</td>\n",
       "      <td>Being treated</td>\n",
       "      <td>Vietnam</td>\n",
       "      <td>6/15/21</td>\n",
       "      <td>10999.0</td>\n",
       "    </tr>\n",
       "  </tbody>\n",
       "</table>\n",
       "<p>150 rows × 7 columns</p>\n",
       "</div>"
      ],
      "text/plain": [
       "       patient_number  age      province          status nationality     Date  \\\n",
       "10849           10850   28    Bac Giang   Being treated     Vietnam   6/14/21   \n",
       "10850           10851   34    Bac Giang   Being treated     Vietnam   6/14/21   \n",
       "10851           10852   19    Bac Giang   Being treated     Vietnam   6/14/21   \n",
       "10852           10853   32    Bac Giang   Being treated     Vietnam   6/14/21   \n",
       "10853           10854   28    Bac Giang   Being treated     Vietnam   6/14/21   \n",
       "...               ...  ...           ...             ...         ...      ...   \n",
       "10994           10995   43  Ho Chi Minh   Being treated     Vietnam   6/15/21   \n",
       "10995           10996   16  Ho Chi Minh   Being treated     Vietnam   6/15/21   \n",
       "10996           10997   41  Ho Chi Minh   Being treated     Vietnam   6/15/21   \n",
       "10997           10998   70  Ho Chi Minh   Being treated     Vietnam   6/15/21   \n",
       "10998           10999   42  Ho Chi Minh   Being treated     Vietnam   6/15/21   \n",
       "\n",
       "         Cases  \n",
       "10849  10881.0  \n",
       "10850  10881.0  \n",
       "10851  10881.0  \n",
       "10852  10881.0  \n",
       "10853  10881.0  \n",
       "...        ...  \n",
       "10994  10999.0  \n",
       "10995  10999.0  \n",
       "10996  10999.0  \n",
       "10997  10999.0  \n",
       "10998  10999.0  \n",
       "\n",
       "[150 rows x 7 columns]"
      ]
     },
     "execution_count": 349,
     "metadata": {},
     "output_type": "execute_result"
    }
   ],
   "source": []
  },
  {
   "cell_type": "code",
   "execution_count": null,
   "metadata": {},
   "outputs": [],
   "source": []
  }
 ],
 "metadata": {
  "kernelspec": {
   "display_name": "Python 3",
   "language": "python",
   "name": "python3"
  },
  "language_info": {
   "codemirror_mode": {
    "name": "ipython",
    "version": 3
   },
   "file_extension": ".py",
   "mimetype": "text/x-python",
   "name": "python",
   "nbconvert_exporter": "python",
   "pygments_lexer": "ipython3",
   "version": "3.8.5"
  }
 },
 "nbformat": 4,
 "nbformat_minor": 4
}
