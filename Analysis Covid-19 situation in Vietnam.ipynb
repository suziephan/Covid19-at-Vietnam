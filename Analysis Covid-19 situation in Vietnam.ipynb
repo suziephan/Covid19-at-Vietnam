{
 "cells": [
  {
   "cell_type": "markdown",
   "metadata": {},
   "source": [
    "<h1><span style = \"color: blue; font-weight:bold\" > Scrapping Covid Data from Ministry of Health</span></h1>"
   ]
  },
  {
   "cell_type": "markdown",
   "metadata": {},
   "source": [
    "This notebook is to collect the covid situation which is happenning in Vietnam"
   ]
  },
  {
   "cell_type": "markdown",
   "metadata": {},
   "source": [
    "<h2> 1. Import library</h2>"
   ]
  },
  {
   "cell_type": "code",
   "execution_count": 59,
   "metadata": {},
   "outputs": [],
   "source": [
    "import pandas as pd\n",
    "import numpy as np\n",
    "import requests\n",
    "import requests\n",
    "from bs4 import BeautifulSoup\n",
    "import lxml.html\n",
    "import datetime\n",
    "import time\n",
    "import pandas as pd\n",
    "import re\n",
    "from tqdm import tqdm\n",
    "from requests.adapters import HTTPAdapter\n",
    "from requests.packages.urllib3.util.retry import Retry\n",
    "import matplotlib.pyplot as plt\n",
    "import seaborn as sns"
   ]
  },
  {
   "cell_type": "markdown",
   "metadata": {},
   "source": [
    "<h2> 2. Scrapped Data </h2>"
   ]
  },
  {
   "cell_type": "code",
   "execution_count": 20,
   "metadata": {},
   "outputs": [
    {
     "name": "stderr",
     "output_type": "stream",
     "text": [
      "/Users/NT/anaconda3/lib/python3.7/site-packages/urllib3/connectionpool.py:847: InsecureRequestWarning: Unverified HTTPS request is being made. Adding certificate verification is strongly advised. See: https://urllib3.readthedocs.io/en/latest/advanced-usage.html#ssl-warnings\n",
      "  InsecureRequestWarning)\n"
     ]
    }
   ],
   "source": [
    "page = requests.get(\"https://ncov.moh.gov.vn/\", verify = False)"
   ]
  },
  {
   "cell_type": "code",
   "execution_count": 22,
   "metadata": {},
   "outputs": [],
   "source": [
    "soup = BeautifulSoup(page.text, 'html.parser')"
   ]
  },
  {
   "cell_type": "markdown",
   "metadata": {},
   "source": [
    "<h2> 3. Extract & Clean data </h2>"
   ]
  },
  {
   "cell_type": "code",
   "execution_count": 162,
   "metadata": {},
   "outputs": [],
   "source": [
    "soup1 = soup.find_all('table', attrs={\"class\":\"table table-striped table-covid19\", \"id\":\"sailorTable\"})"
   ]
  },
  {
   "cell_type": "code",
   "execution_count": 163,
   "metadata": {},
   "outputs": [],
   "source": [
    "res = soup1[0].find_all('td')"
   ]
  },
  {
   "cell_type": "code",
   "execution_count": 164,
   "metadata": {},
   "outputs": [],
   "source": [
    "def name_extract (result_list):\n",
    "    data =pd.DataFrame()\n",
    "    colnames = ['patient_number','age','province','status','nationality']\n",
    "    for i in range (0,5):\n",
    "        data.insert (i, colnames[i],[m.get_text() for m in result_list[i::5]])\n",
    "    return data\n"
   ]
  },
  {
   "cell_type": "code",
   "execution_count": 175,
   "metadata": {
    "scrolled": true
   },
   "outputs": [
    {
     "data": {
      "text/html": [
       "<div>\n",
       "<style scoped>\n",
       "    .dataframe tbody tr th:only-of-type {\n",
       "        vertical-align: middle;\n",
       "    }\n",
       "\n",
       "    .dataframe tbody tr th {\n",
       "        vertical-align: top;\n",
       "    }\n",
       "\n",
       "    .dataframe thead th {\n",
       "        text-align: right;\n",
       "    }\n",
       "</style>\n",
       "<table border=\"1\" class=\"dataframe\">\n",
       "  <thead>\n",
       "    <tr style=\"text-align: right;\">\n",
       "      <th></th>\n",
       "      <th>patient_number</th>\n",
       "      <th>age</th>\n",
       "      <th>province</th>\n",
       "      <th>status</th>\n",
       "      <th>nationality</th>\n",
       "    </tr>\n",
       "  </thead>\n",
       "  <tbody>\n",
       "    <tr>\n",
       "      <th>0</th>\n",
       "      <td>BN4579</td>\n",
       "      <td>21</td>\n",
       "      <td>Bắc Giang</td>\n",
       "      <td>Đang điều trị</td>\n",
       "      <td>Việt Nam</td>\n",
       "    </tr>\n",
       "    <tr>\n",
       "      <th>1</th>\n",
       "      <td>BN4578</td>\n",
       "      <td>83</td>\n",
       "      <td>Bắc Giang</td>\n",
       "      <td>Đang điều trị</td>\n",
       "      <td>Việt Nam</td>\n",
       "    </tr>\n",
       "    <tr>\n",
       "      <th>2</th>\n",
       "      <td>BN4577</td>\n",
       "      <td>35</td>\n",
       "      <td>Bắc Giang</td>\n",
       "      <td>Đang điều trị</td>\n",
       "      <td>Việt Nam</td>\n",
       "    </tr>\n",
       "    <tr>\n",
       "      <th>3</th>\n",
       "      <td>BN4576\\t</td>\n",
       "      <td>21</td>\n",
       "      <td>Bắc Giang</td>\n",
       "      <td>Đang điều trị</td>\n",
       "      <td>Việt Nam</td>\n",
       "    </tr>\n",
       "    <tr>\n",
       "      <th>4</th>\n",
       "      <td>BN4575</td>\n",
       "      <td>32</td>\n",
       "      <td>Bắc Giang</td>\n",
       "      <td>Đang điều trị</td>\n",
       "      <td>Việt Nam</td>\n",
       "    </tr>\n",
       "  </tbody>\n",
       "</table>\n",
       "</div>"
      ],
      "text/plain": [
       "  patient_number age   province         status nationality\n",
       "0         BN4579  21  Bắc Giang  Đang điều trị    Việt Nam\n",
       "1         BN4578  83  Bắc Giang  Đang điều trị    Việt Nam\n",
       "2         BN4577  35  Bắc Giang  Đang điều trị    Việt Nam\n",
       "3       BN4576\\t  21  Bắc Giang  Đang điều trị    Việt Nam\n",
       "4         BN4575  32  Bắc Giang  Đang điều trị    Việt Nam"
      ]
     },
     "execution_count": 175,
     "metadata": {},
     "output_type": "execute_result"
    }
   ],
   "source": [
    "data =name_extract(res)\n",
    "data.head()"
   ]
  },
  {
   "cell_type": "code",
   "execution_count": 170,
   "metadata": {},
   "outputs": [],
   "source": [
    "data.patient_number =data.patient_number.apply(lambda x: x.replace(\"\\t\",\"\"))"
   ]
  },
  {
   "cell_type": "markdown",
   "metadata": {},
   "source": [
    "<h2> 4. Translate to English </h2>"
   ]
  },
  {
   "cell_type": "code",
   "execution_count": 171,
   "metadata": {},
   "outputs": [],
   "source": [
    "import google_trans_new\n",
    "from google_trans_new import google_translator  "
   ]
  },
  {
   "cell_type": "markdown",
   "metadata": {},
   "source": [
    "Demo translate"
   ]
  },
  {
   "cell_type": "code",
   "execution_count": 172,
   "metadata": {},
   "outputs": [
    {
     "name": "stdout",
     "output_type": "stream",
     "text": [
      "Being treated \n"
     ]
    }
   ],
   "source": [
    "translator = google_translator()  \n",
    "print(translator.translate('Đang điều trị',lang_tgt='en'))"
   ]
  },
  {
   "cell_type": "markdown",
   "metadata": {},
   "source": [
    "Loop to translate all rows in Vietnamese to English"
   ]
  },
  {
   "cell_type": "code",
   "execution_count": 173,
   "metadata": {},
   "outputs": [],
   "source": [
    "translator = google_translator()\n",
    "translations = {}\n",
    "for column in data.columns[2:5]:\n",
    "    # Unique elements of the column\n",
    "    unique_elements = data[column].unique()\n",
    "    for element in unique_elements:\n",
    "        # Adding all the translations to a dictionary (translations)\n",
    "        translations[element] = translator.translate(element,lang_tgt='en')\n"
   ]
  },
  {
   "cell_type": "code",
   "execution_count": 231,
   "metadata": {
    "scrolled": false
   },
   "outputs": [
    {
     "data": {
      "text/plain": [
       "{'Bắc Giang': 'Bac Giang ', 'Hà Nội': 'Hanoi ', 'Vĩnh Phúc': 'Vinh Phuc '}"
      ]
     },
     "execution_count": 231,
     "metadata": {},
     "output_type": "execute_result"
    }
   ],
   "source": [
    "import itertools\n",
    "dict(itertools.islice(translations.items(), 3)) "
   ]
  },
  {
   "cell_type": "code",
   "execution_count": 193,
   "metadata": {},
   "outputs": [],
   "source": [
    "adj_dic = {'Thái Bình': 'Thai Binh','Hà Nam': 'Ha Nam ','Hoà Bình': 'Hoa Binh ',\n",
    "           'Gia Lai': 'Gia Lai','Bình Định': 'Binh Dinh','Khỏi': 'Recovered',\n",
    "           'Áo': 'Austria','Đức': 'Germany', 'U-dơ-bê-ki-xtan': 'Uzbekistan',\n",
    "           'Ba Lan': 'Poland','Nga': 'Russia','Bra-xin': 'Brazil','Li-bi': 'Libya',\n",
    "           'Nê-pan': 'Nepal ','Hung-ga-ri': 'Hungary ','Pháp': 'France ','Mi-an-ma': 'Myanmar',\n",
    "          'Lát-vi-a': 'Latvia', 'Moldova': 'Moldova', 'And Islands ':'Vietnam'}"
   ]
  },
  {
   "cell_type": "code",
   "execution_count": 194,
   "metadata": {},
   "outputs": [],
   "source": [
    "for i in translations.keys():\n",
    "    if i in adj_dic.keys():\n",
    "        translations[i] = adj_dic[i]"
   ]
  },
  {
   "cell_type": "code",
   "execution_count": 202,
   "metadata": {},
   "outputs": [],
   "source": [
    "data.replace(translations, inplace = True)"
   ]
  },
  {
   "cell_type": "code",
   "execution_count": 203,
   "metadata": {},
   "outputs": [
    {
     "data": {
      "text/html": [
       "<div>\n",
       "<style scoped>\n",
       "    .dataframe tbody tr th:only-of-type {\n",
       "        vertical-align: middle;\n",
       "    }\n",
       "\n",
       "    .dataframe tbody tr th {\n",
       "        vertical-align: top;\n",
       "    }\n",
       "\n",
       "    .dataframe thead th {\n",
       "        text-align: right;\n",
       "    }\n",
       "</style>\n",
       "<table border=\"1\" class=\"dataframe\">\n",
       "  <thead>\n",
       "    <tr style=\"text-align: right;\">\n",
       "      <th></th>\n",
       "      <th>patient_number</th>\n",
       "      <th>age</th>\n",
       "      <th>province</th>\n",
       "      <th>status</th>\n",
       "      <th>nationality</th>\n",
       "    </tr>\n",
       "  </thead>\n",
       "  <tbody>\n",
       "    <tr>\n",
       "      <th>0</th>\n",
       "      <td>BN4579</td>\n",
       "      <td>21</td>\n",
       "      <td>Bac Giang</td>\n",
       "      <td>Being treated</td>\n",
       "      <td>Vietnam</td>\n",
       "    </tr>\n",
       "    <tr>\n",
       "      <th>1</th>\n",
       "      <td>BN4578</td>\n",
       "      <td>83</td>\n",
       "      <td>Bac Giang</td>\n",
       "      <td>Being treated</td>\n",
       "      <td>Vietnam</td>\n",
       "    </tr>\n",
       "    <tr>\n",
       "      <th>2</th>\n",
       "      <td>BN4577</td>\n",
       "      <td>35</td>\n",
       "      <td>Bac Giang</td>\n",
       "      <td>Being treated</td>\n",
       "      <td>Vietnam</td>\n",
       "    </tr>\n",
       "    <tr>\n",
       "      <th>3</th>\n",
       "      <td>BN4576\\t</td>\n",
       "      <td>21</td>\n",
       "      <td>Bac Giang</td>\n",
       "      <td>Being treated</td>\n",
       "      <td>Vietnam</td>\n",
       "    </tr>\n",
       "    <tr>\n",
       "      <th>4</th>\n",
       "      <td>BN4575</td>\n",
       "      <td>32</td>\n",
       "      <td>Bac Giang</td>\n",
       "      <td>Being treated</td>\n",
       "      <td>Vietnam</td>\n",
       "    </tr>\n",
       "  </tbody>\n",
       "</table>\n",
       "</div>"
      ],
      "text/plain": [
       "  patient_number age    province          status nationality\n",
       "0         BN4579  21  Bac Giang   Being treated     Vietnam \n",
       "1         BN4578  83  Bac Giang   Being treated     Vietnam \n",
       "2         BN4577  35  Bac Giang   Being treated     Vietnam \n",
       "3       BN4576\\t  21  Bac Giang   Being treated     Vietnam \n",
       "4         BN4575  32  Bac Giang   Being treated     Vietnam "
      ]
     },
     "execution_count": 203,
     "metadata": {},
     "output_type": "execute_result"
    }
   ],
   "source": [
    "data.head()"
   ]
  },
  {
   "cell_type": "markdown",
   "metadata": {},
   "source": [
    "<h2> 5. Basic EDA </h2>"
   ]
  },
  {
   "cell_type": "markdown",
   "metadata": {},
   "source": [
    "This is to explore answers for these questions:\n",
    "1. Number of cases by province and country\n",
    "2. Number of cases by status\n"
   ]
  },
  {
   "cell_type": "markdown",
   "metadata": {},
   "source": [
    "<b>1. Number of cases by province and country</b>"
   ]
  },
  {
   "cell_type": "code",
   "execution_count": 180,
   "metadata": {
    "scrolled": false
   },
   "outputs": [
    {
     "data": {
      "text/plain": [
       "province\n",
       "Hai Duong           778\n",
       "Danang              641\n",
       "Bac Giang           554\n",
       "Hanoi               525\n",
       "Bac Ninh            365\n",
       "Ho Chi Minh         275\n",
       "Khanh Hoa           142\n",
       "Quang Nam           121\n",
       "BA Ria Vung Tau     113\n",
       "Vinh Phuc           106\n",
       "Quang Ninh           90\n",
       "hung Yen             68\n",
       "Thai Binh            59\n",
       "Bac Lieu             52\n",
       "Binh Duong           45\n",
       "Ha Nam               42\n",
       "Kien Giang           39\n",
       "Tay Ninh             38\n",
       "Ninh Binh            36\n",
       "Can Tho              34\n",
       "Dien Bien            34\n",
       "Hoa Binh             33\n",
       "Dong Nai             29\n",
       "Dong Thap            28\n",
       "Phu Yen              28\n",
       "Gia Lai              27\n",
       "Thanh Hoa            25\n",
       "Lang Son             25\n",
       "Nam Dinh             25\n",
       "Ben tre              20\n",
       "Vinh Long            14\n",
       "Quang Tri            13\n",
       "Soc Trang            13\n",
       "Ninh Thuan           12\n",
       "Ha Tinh              12\n",
       "Hai Phong            11\n",
       "Binh Thuan           11\n",
       "Long An              10\n",
       "An Giang              9\n",
       "Quang Ngai            8\n",
       "Tra Vinh              8\n",
       "Ca Mau                8\n",
       "Phu-Tho               7\n",
       "Tien Giang            7\n",
       "Hue                   6\n",
       "Dak Lak               6\n",
       "Thai Nguyen           6\n",
       "Nghe An               5\n",
       "Yen Bai               5\n",
       "Ha Giang              3\n",
       "Lao Cai               2\n",
       "                      2\n",
       "Binh Dinh             1\n",
       "Lai Chau              1\n",
       "Tuyen Quang           1\n",
       "Son La                1\n",
       "Name: patient_number, dtype: int64"
      ]
     },
     "execution_count": 180,
     "metadata": {},
     "output_type": "execute_result"
    }
   ],
   "source": [
    "data.groupby('province').patient_number.count().sort_values(ascending = False)"
   ]
  },
  {
   "cell_type": "code",
   "execution_count": 217,
   "metadata": {
    "scrolled": true
   },
   "outputs": [
    {
     "data": {
      "text/plain": [
       "nationality\n",
       "Vietnam                         4354\n",
       "India                             54\n",
       "Russia                            26\n",
       "UK                                22\n",
       "China                             12\n",
       "USA                               12\n",
       "Philippines                       11\n",
       "South Africa                       8\n",
       "Brazil                             7\n",
       "France                             7\n",
       "Germany                            6\n",
       "Japan                              5\n",
       "Taiwan                             5\n",
       "Austria                            4\n",
       "Korea                              4\n",
       "Turkey                             3\n",
       "Costa Rica Republic                3\n",
       "Belarus                            3\n",
       "Pakistan                           2\n",
       "Ukraine                            2\n",
       "Israel                             2\n",
       "Vietnam                            2\n",
       "Myanmar                            2\n",
       "Canada                             1\n",
       "Australia                          1\n",
       "Uzbekistan                         1\n",
       "Algeria                            1\n",
       "Czech Republic                     1\n",
       "Denmark                            1\n",
       "Egypt                              1\n",
       "Federal Republic of Nigeria        1\n",
       "Serbia and Montenegro              1\n",
       "Hungary                            1\n",
       "Hong Kong                          1\n",
       "Poland                             1\n",
       "Iceland                            1\n",
       "Switzerland                        1\n",
       "Indonesia                          1\n",
       "Iran                               1\n",
       "Latvia                             1\n",
       "Libya                              1\n",
       "Malaysia                           1\n",
       "Moldova                            1\n",
       "Nepal                              1\n",
       "Singapore                          1\n",
       "                                   1\n",
       "Name: patient_number, dtype: int64"
      ]
     },
     "execution_count": 217,
     "metadata": {},
     "output_type": "execute_result"
    }
   ],
   "source": [
    "data.groupby('nationality').patient_number.count().sort_values(ascending = False)"
   ]
  },
  {
   "cell_type": "markdown",
   "metadata": {},
   "source": [
    "<b> 2. Number of cases by status </b>"
   ]
  },
  {
   "cell_type": "code",
   "execution_count": 219,
   "metadata": {},
   "outputs": [
    {
     "data": {
      "text/plain": [
       "status\n",
       "Being treated     1851\n",
       "Dead                37\n",
       "Other                4\n",
       "Recovered         2687\n",
       "Name: patient_number, dtype: int64"
      ]
     },
     "execution_count": 219,
     "metadata": {},
     "output_type": "execute_result"
    }
   ],
   "source": [
    "data.groupby('status').patient_number.count()"
   ]
  },
  {
   "cell_type": "code",
   "execution_count": 223,
   "metadata": {},
   "outputs": [
    {
     "data": {
      "text/html": [
       "<div>\n",
       "<style scoped>\n",
       "    .dataframe tbody tr th:only-of-type {\n",
       "        vertical-align: middle;\n",
       "    }\n",
       "\n",
       "    .dataframe tbody tr th {\n",
       "        vertical-align: top;\n",
       "    }\n",
       "\n",
       "    .dataframe thead th {\n",
       "        text-align: right;\n",
       "    }\n",
       "</style>\n",
       "<table border=\"1\" class=\"dataframe\">\n",
       "  <thead>\n",
       "    <tr style=\"text-align: right;\">\n",
       "      <th></th>\n",
       "      <th>patient_number</th>\n",
       "      <th>age</th>\n",
       "      <th>province</th>\n",
       "      <th>status</th>\n",
       "      <th>nationality</th>\n",
       "    </tr>\n",
       "  </thead>\n",
       "  <tbody>\n",
       "    <tr>\n",
       "      <th>2350</th>\n",
       "      <td>BN2229</td>\n",
       "      <td>54</td>\n",
       "      <td>Hanoi</td>\n",
       "      <td>Other</td>\n",
       "      <td>Japan</td>\n",
       "    </tr>\n",
       "    <tr>\n",
       "      <th>3815</th>\n",
       "      <td>BN764</td>\n",
       "      <td>67</td>\n",
       "      <td>Danang</td>\n",
       "      <td>Other</td>\n",
       "      <td>Vietnam</td>\n",
       "    </tr>\n",
       "    <tr>\n",
       "      <th>4126</th>\n",
       "      <td>BN453</td>\n",
       "      <td>56</td>\n",
       "      <td>Danang</td>\n",
       "      <td>Other</td>\n",
       "      <td>Vietnam</td>\n",
       "    </tr>\n",
       "    <tr>\n",
       "      <th>4161</th>\n",
       "      <td>BN418</td>\n",
       "      <td>61</td>\n",
       "      <td>Danang</td>\n",
       "      <td>Other</td>\n",
       "      <td>Vietnam</td>\n",
       "    </tr>\n",
       "  </tbody>\n",
       "</table>\n",
       "</div>"
      ],
      "text/plain": [
       "     patient_number age province  status nationality\n",
       "2350         BN2229  54   Hanoi   Other       Japan \n",
       "3815          BN764  67  Danang   Other     Vietnam \n",
       "4126          BN453  56  Danang   Other     Vietnam \n",
       "4161          BN418  61  Danang   Other     Vietnam "
      ]
     },
     "execution_count": 223,
     "metadata": {},
     "output_type": "execute_result"
    }
   ],
   "source": [
    "data[data.status == 'Other ']"
   ]
  },
  {
   "cell_type": "markdown",
   "metadata": {},
   "source": [
    "Status \"Other\" are used to refer to 4 patients that die because of other reason not covid\n",
    "+ Patient 418: died because of chronic kidney disease ( 4 times negative test covid)\n",
    "+ Patient 453: died because of chronic kidney disease, pneumonia, heart failure, stroke ( 3 times negative test covid)\n",
    "+ Patient 764: died because of chronic kidney disease,hypertension, stroke ( 3 times negative test covid)\n",
    "+ Patient 2229: died unknown reason ( 2 times negative test covid)"
   ]
  }
 ],
 "metadata": {
  "kernelspec": {
   "display_name": "Python 3",
   "language": "python",
   "name": "python3"
  },
  "language_info": {
   "codemirror_mode": {
    "name": "ipython",
    "version": 3
   },
   "file_extension": ".py",
   "mimetype": "text/x-python",
   "name": "python",
   "nbconvert_exporter": "python",
   "pygments_lexer": "ipython3",
   "version": "3.7.1"
  }
 },
 "nbformat": 4,
 "nbformat_minor": 2
}
