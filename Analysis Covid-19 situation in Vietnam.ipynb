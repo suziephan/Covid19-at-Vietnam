{
 "cells": [
  {
   "cell_type": "markdown",
   "metadata": {},
   "source": [
    "<h1><span style = \"color: blue; font-weight:bold\" > Scrapping Covid Data from Ministry of Health</span></h1>"
   ]
  },
  {
   "cell_type": "markdown",
   "metadata": {},
   "source": [
    "This notebook is to collect the covid situation which is happenning in Vietnam"
   ]
  },
  {
   "cell_type": "markdown",
   "metadata": {},
   "source": [
    "<h2> 1. Import library</h2>"
   ]
  },
  {
   "cell_type": "code",
   "execution_count": 34,
   "metadata": {},
   "outputs": [],
   "source": [
    "import pandas as pd\n",
    "import numpy as np\n",
    "import requests\n",
    "import requests\n",
    "from bs4 import BeautifulSoup\n",
    "import lxml.html\n",
    "import datetime\n",
    "import time\n",
    "import pandas as pd\n",
    "import re\n",
    "from tqdm import tqdm\n",
    "from requests.adapters import HTTPAdapter\n",
    "from requests.packages.urllib3.util.retry import Retry\n",
    "import matplotlib.pyplot as plt\n",
    "import seaborn as sns"
   ]
  },
  {
   "cell_type": "markdown",
   "metadata": {},
   "source": [
    "<h2> 2. Scrapped Data </h2>"
   ]
  },
  {
   "cell_type": "code",
   "execution_count": 71,
   "metadata": {},
   "outputs": [],
   "source": [
    "url = \"https://ncov.moh.gov.vn/vi/web/guest/trang-chu?p_p_id=corona_trangchu_top_CoronaTrangchuTopPortlet_INSTANCE_RrVAbIFIPL7v&p_p_lifecycle=0&p_p_state=normal&p_p_mode=view&_corona_trangchu_top_CoronaTrangchuTopPortlet_INSTANCE_RrVAbIFIPL7v_delta=100&_corona_trangchu_top_CoronaTrangchuTopPortlet_INSTANCE_RrVAbIFIPL7v_resetCur=false&_corona_trangchu_top_CoronaTrangchuTopPortlet_INSTANCE_RrVAbIFIPL7v_cur={}\""
   ]
  },
  {
   "cell_type": "code",
   "execution_count": 209,
   "metadata": {},
   "outputs": [],
   "source": [
    "def get_soup_data(link, m):\n",
    "    final_soup = []\n",
    "    for i in tqdm(range (0,m)):\n",
    "        page = requests.get(link.format(i), verify = False)\n",
    "        soup = BeautifulSoup(page.text, 'html.parser')\n",
    "        soup = soup.find_all('div', attrs= {\"class\": \"inner\"}) \n",
    "        final_soup.append(soup)\n",
    "    return final_soup"
   ]
  },
  {
   "cell_type": "code",
   "execution_count": 210,
   "metadata": {
    "collapsed": true
   },
   "outputs": [
    {
     "name": "stderr",
     "output_type": "stream",
     "text": [
      "\n",
      "  0%|          | 0/100 [00:00<?, ?it/s]\u001b[A\n",
      "  1%|          | 1/100 [00:02<03:28,  2.11s/it]\u001b[A\n",
      "  2%|▏         | 2/100 [00:03<03:19,  2.03s/it]\u001b[A\n",
      "  3%|▎         | 3/100 [00:05<03:00,  1.87s/it]\u001b[A\n",
      "  4%|▍         | 4/100 [00:06<02:44,  1.71s/it]\u001b[A\n",
      "  5%|▌         | 5/100 [00:08<02:40,  1.69s/it]\u001b[A\n",
      "  6%|▌         | 6/100 [00:09<02:34,  1.65s/it]\u001b[A\n",
      "  7%|▋         | 7/100 [00:11<02:37,  1.69s/it]\u001b[A\n",
      "  8%|▊         | 8/100 [00:13<02:41,  1.75s/it]\u001b[A\n",
      "  9%|▉         | 9/100 [00:16<02:59,  1.97s/it]\u001b[A\n",
      " 10%|█         | 10/100 [00:18<02:59,  1.99s/it]\u001b[A\n",
      " 11%|█         | 11/100 [00:20<03:11,  2.16s/it]\u001b[A\n",
      " 12%|█▏        | 12/100 [00:24<03:56,  2.69s/it]\u001b[A\n",
      " 13%|█▎        | 13/100 [00:27<03:56,  2.72s/it]\u001b[A\n",
      " 14%|█▍        | 14/100 [00:29<03:42,  2.59s/it]\u001b[A\n",
      " 15%|█▌        | 15/100 [00:31<03:17,  2.32s/it]\u001b[A\n",
      " 16%|█▌        | 16/100 [00:33<02:59,  2.14s/it]\u001b[A\n",
      " 17%|█▋        | 17/100 [00:35<03:07,  2.25s/it]\u001b[A\n",
      " 18%|█▊        | 18/100 [00:37<02:53,  2.12s/it]\u001b[A\n",
      " 19%|█▉        | 19/100 [00:39<02:43,  2.02s/it]\u001b[A\n",
      " 20%|██        | 20/100 [00:41<02:35,  1.95s/it]\u001b[A\n",
      " 21%|██        | 21/100 [00:43<02:46,  2.11s/it]\u001b[A\n",
      " 22%|██▏       | 22/100 [00:45<02:49,  2.17s/it]\u001b[A\n",
      " 23%|██▎       | 23/100 [00:48<02:51,  2.23s/it]\u001b[A\n",
      " 24%|██▍       | 24/100 [01:15<12:18,  9.71s/it]\u001b[A\n",
      " 25%|██▌       | 25/100 [01:18<09:38,  7.72s/it]\u001b[A\n",
      " 26%|██▌       | 26/100 [01:21<07:36,  6.17s/it]\u001b[A\n",
      " 27%|██▋       | 27/100 [01:23<06:00,  4.94s/it]\u001b[A\n",
      " 28%|██▊       | 28/100 [01:25<04:57,  4.13s/it]\u001b[A\n",
      " 29%|██▉       | 29/100 [01:27<04:10,  3.53s/it]\u001b[A\n",
      " 30%|███       | 30/100 [01:29<03:45,  3.22s/it]\u001b[A\n",
      " 31%|███       | 31/100 [01:32<03:19,  2.90s/it]\u001b[A\n",
      " 32%|███▏      | 32/100 [01:33<02:52,  2.54s/it]\u001b[A\n",
      " 33%|███▎      | 33/100 [01:35<02:41,  2.42s/it]\u001b[A\n",
      " 34%|███▍      | 34/100 [01:37<02:28,  2.25s/it]\u001b[A\n",
      " 35%|███▌      | 35/100 [01:40<02:26,  2.26s/it]\u001b[A\n",
      " 36%|███▌      | 36/100 [01:41<02:14,  2.10s/it]\u001b[A\n",
      " 37%|███▋      | 37/100 [01:43<02:11,  2.08s/it]\u001b[A\n",
      " 38%|███▊      | 38/100 [01:45<02:01,  1.97s/it]\u001b[A\n",
      " 39%|███▉      | 39/100 [01:47<02:05,  2.06s/it]\u001b[A\n",
      " 40%|████      | 40/100 [01:49<02:03,  2.05s/it]\u001b[A\n",
      " 41%|████      | 41/100 [01:52<02:04,  2.10s/it]\u001b[A\n",
      " 42%|████▏     | 42/100 [01:53<01:58,  2.04s/it]\u001b[A\n",
      " 43%|████▎     | 43/100 [01:55<01:55,  2.02s/it]\u001b[A\n",
      " 44%|████▍     | 44/100 [01:58<01:53,  2.03s/it]\u001b[A\n",
      " 45%|████▌     | 45/100 [02:01<02:13,  2.43s/it]\u001b[A\n",
      " 46%|████▌     | 46/100 [02:03<02:11,  2.44s/it]\u001b[A\n",
      " 47%|████▋     | 47/100 [02:06<02:19,  2.63s/it]\u001b[A\n",
      " 48%|████▊     | 48/100 [02:10<02:38,  3.04s/it]\u001b[A\n",
      " 49%|████▉     | 49/100 [02:14<02:38,  3.11s/it]\u001b[A\n",
      " 50%|█████     | 50/100 [02:16<02:25,  2.90s/it]\u001b[A\n",
      " 51%|█████     | 51/100 [02:18<02:13,  2.73s/it]\u001b[A\n",
      " 52%|█████▏    | 52/100 [02:21<02:02,  2.56s/it]\u001b[A\n",
      " 53%|█████▎    | 53/100 [02:23<01:59,  2.54s/it]\u001b[A\n",
      " 54%|█████▍    | 54/100 [02:25<01:51,  2.43s/it]\u001b[A\n",
      " 55%|█████▌    | 55/100 [02:27<01:46,  2.37s/it]\u001b[A\n",
      " 56%|█████▌    | 56/100 [02:30<01:43,  2.36s/it]\u001b[A\n",
      " 57%|█████▋    | 57/100 [02:32<01:38,  2.28s/it]\u001b[A\n",
      " 58%|█████▊    | 58/100 [02:34<01:36,  2.29s/it]\u001b[A\n",
      " 59%|█████▉    | 59/100 [02:43<02:47,  4.10s/it]\u001b[A\n",
      " 60%|██████    | 60/100 [02:45<02:18,  3.47s/it]\u001b[A\n",
      " 61%|██████    | 61/100 [02:46<01:57,  3.01s/it]\u001b[A\n",
      " 62%|██████▏   | 62/100 [02:48<01:41,  2.68s/it]\u001b[A\n",
      " 63%|██████▎   | 63/100 [02:51<01:33,  2.51s/it]\u001b[A\n",
      " 64%|██████▍   | 64/100 [02:52<01:24,  2.35s/it]\u001b[A\n",
      " 65%|██████▌   | 65/100 [02:54<01:17,  2.21s/it]\u001b[A\n",
      " 66%|██████▌   | 66/100 [02:56<01:12,  2.12s/it]\u001b[A\n",
      " 67%|██████▋   | 67/100 [02:59<01:11,  2.15s/it]\u001b[A\n",
      " 68%|██████▊   | 68/100 [03:01<01:08,  2.15s/it]\u001b[A\n",
      " 69%|██████▉   | 69/100 [03:03<01:06,  2.14s/it]\u001b[A\n",
      " 70%|███████   | 70/100 [03:06<01:10,  2.34s/it]\u001b[A\n",
      " 71%|███████   | 71/100 [03:08<01:10,  2.45s/it]\u001b[A\n",
      " 72%|███████▏  | 72/100 [03:10<01:06,  2.37s/it]\u001b[A\n",
      " 73%|███████▎  | 73/100 [03:13<01:01,  2.28s/it]\u001b[A\n",
      " 74%|███████▍  | 74/100 [03:15<01:00,  2.32s/it]\u001b[A\n",
      " 75%|███████▌  | 75/100 [03:17<00:55,  2.24s/it]\u001b[A\n",
      " 76%|███████▌  | 76/100 [03:19<00:52,  2.18s/it]\u001b[A\n",
      " 77%|███████▋  | 77/100 [03:21<00:47,  2.07s/it]\u001b[A\n",
      " 78%|███████▊  | 78/100 [03:23<00:48,  2.22s/it]\u001b[A\n",
      " 79%|███████▉  | 79/100 [03:26<00:47,  2.24s/it]\u001b[A\n",
      " 80%|████████  | 80/100 [03:29<00:49,  2.49s/it]\u001b[A\n",
      " 81%|████████  | 81/100 [03:31<00:45,  2.42s/it]\u001b[A\n",
      " 82%|████████▏ | 82/100 [03:33<00:41,  2.33s/it]\u001b[A\n",
      " 83%|████████▎ | 83/100 [03:35<00:37,  2.21s/it]\u001b[A\n",
      " 84%|████████▍ | 84/100 [03:37<00:34,  2.16s/it]\u001b[A\n",
      " 85%|████████▌ | 85/100 [03:39<00:32,  2.15s/it]\u001b[A\n",
      " 86%|████████▌ | 86/100 [03:42<00:30,  2.20s/it]\u001b[A\n",
      " 87%|████████▋ | 87/100 [03:45<00:31,  2.44s/it]\u001b[A\n",
      " 88%|████████▊ | 88/100 [03:47<00:29,  2.46s/it]\u001b[A\n",
      " 89%|████████▉ | 89/100 [03:50<00:28,  2.56s/it]\u001b[A\n",
      " 90%|█████████ | 90/100 [03:52<00:24,  2.41s/it]\u001b[A\n",
      " 91%|█████████ | 91/100 [03:54<00:19,  2.22s/it]\u001b[A\n",
      " 92%|█████████▏| 92/100 [03:55<00:16,  2.09s/it]\u001b[A\n",
      " 93%|█████████▎| 93/100 [03:57<00:13,  1.98s/it]\u001b[A\n",
      " 94%|█████████▍| 94/100 [03:59<00:11,  1.89s/it]\u001b[A\n",
      " 95%|█████████▌| 95/100 [04:01<00:09,  1.89s/it]\u001b[A\n",
      " 96%|█████████▌| 96/100 [04:03<00:07,  1.89s/it]\u001b[A\n",
      " 97%|█████████▋| 97/100 [04:05<00:06,  2.04s/it]\u001b[A\n",
      " 98%|█████████▊| 98/100 [04:07<00:03,  1.98s/it]\u001b[A\n",
      " 99%|█████████▉| 99/100 [04:09<00:01,  1.97s/it]\u001b[A\n",
      "100%|██████████| 100/100 [04:11<00:00,  1.91s/it]\u001b[A\n",
      "\u001b[A"
     ]
    }
   ],
   "source": [
    "soup = get_soup_data(url,100)"
   ]
  },
  {
   "cell_type": "markdown",
   "metadata": {},
   "source": [
    "<h2> 3. Extract & Clean data </h2>"
   ]
  },
  {
   "cell_type": "code",
   "execution_count": 237,
   "metadata": {},
   "outputs": [],
   "source": [
    "def clean_tag(text):\n",
    "    patient_n_age = [m.find_all('a',attrs = {\"class\":\"text-uppercase\"}) for i in soup for m in i]\n",
    "    patient_n_age = [i.get_text() for m in patient_n_age for i in m ]\n",
    "    loc_sta_nat  = [m.find_all('p') for i in soup for m in i]\n",
    "    loc_sta_nat = [i.get_text() for m in loc_sta_nat for i in m ]\n",
    "    return patient_n_age, loc_sta_nat\n"
   ]
  },
  {
   "cell_type": "code",
   "execution_count": 238,
   "metadata": {},
   "outputs": [],
   "source": [
    "patient_n_age, loc_sta_nat = clean_tag(soup)"
   ]
  },
  {
   "cell_type": "code",
   "execution_count": 239,
   "metadata": {},
   "outputs": [],
   "source": [
    "patient_number = [ i.split(\"-\")[0].replace(\"\\t\",\"\") for i in patient_n_age ]\n",
    "age = [ i.split(\"-\")[1].replace(\"tuổi\",\"\") for i in patient_n_age ]\n",
    "province = [ i.split(\"\\n\")[1].replace(\" I\",\"\") for i in loc_sta_nat]\n",
    "status = [ i.split(\"\\n\")[2].replace(\"I\",\"\") for i in loc_sta_nat]\n",
    "nationality = [ i.split(\"\\n\")[3].replace(\"\\r\",\"\") for i in loc_sta_nat]"
   ]
  },
  {
   "cell_type": "code",
   "execution_count": 240,
   "metadata": {},
   "outputs": [],
   "source": [
    "data =pd.DataFrame(list(zip(patient_number,age,province,status,nationality)), \n",
    "                  columns = ['patient_number','age','province','status','nationality'])\n",
    "    "
   ]
  },
  {
   "cell_type": "code",
   "execution_count": 241,
   "metadata": {
    "scrolled": true
   },
   "outputs": [
    {
     "data": {
      "text/html": [
       "<div>\n",
       "<style scoped>\n",
       "    .dataframe tbody tr th:only-of-type {\n",
       "        vertical-align: middle;\n",
       "    }\n",
       "\n",
       "    .dataframe tbody tr th {\n",
       "        vertical-align: top;\n",
       "    }\n",
       "\n",
       "    .dataframe thead th {\n",
       "        text-align: right;\n",
       "    }\n",
       "</style>\n",
       "<table border=\"1\" class=\"dataframe\">\n",
       "  <thead>\n",
       "    <tr style=\"text-align: right;\">\n",
       "      <th></th>\n",
       "      <th>patient_number</th>\n",
       "      <th>age</th>\n",
       "      <th>province</th>\n",
       "      <th>status</th>\n",
       "      <th>nationality</th>\n",
       "    </tr>\n",
       "  </thead>\n",
       "  <tbody>\n",
       "    <tr>\n",
       "      <th>9995</th>\n",
       "      <td>BN22</td>\n",
       "      <td>60</td>\n",
       "      <td>Quảng Ninh</td>\n",
       "      <td>Khỏi</td>\n",
       "      <td>Vương quốc Anh</td>\n",
       "    </tr>\n",
       "    <tr>\n",
       "      <th>9996</th>\n",
       "      <td>BN21</td>\n",
       "      <td>61</td>\n",
       "      <td>Hà Nội</td>\n",
       "      <td>Khỏi</td>\n",
       "      <td>Việt Nam</td>\n",
       "    </tr>\n",
       "    <tr>\n",
       "      <th>9997</th>\n",
       "      <td>BN20</td>\n",
       "      <td>28</td>\n",
       "      <td>Hà Nội</td>\n",
       "      <td>Khỏi</td>\n",
       "      <td>Việt Nam</td>\n",
       "    </tr>\n",
       "    <tr>\n",
       "      <th>9998</th>\n",
       "      <td>BN19</td>\n",
       "      <td>64</td>\n",
       "      <td>Hà Nội</td>\n",
       "      <td>Khỏi</td>\n",
       "      <td>Việt Nam</td>\n",
       "    </tr>\n",
       "    <tr>\n",
       "      <th>9999</th>\n",
       "      <td>BN18</td>\n",
       "      <td>27</td>\n",
       "      <td>Ninh Bình</td>\n",
       "      <td>Khỏi</td>\n",
       "      <td>Việt Nam</td>\n",
       "    </tr>\n",
       "  </tbody>\n",
       "</table>\n",
       "</div>"
      ],
      "text/plain": [
       "     patient_number   age    province status     nationality\n",
       "9995          BN22    60   Quảng Ninh   Khỏi  Vương quốc Anh\n",
       "9996          BN21    61       Hà Nội   Khỏi        Việt Nam\n",
       "9997          BN20    28       Hà Nội   Khỏi        Việt Nam\n",
       "9998          BN19    64       Hà Nội   Khỏi        Việt Nam\n",
       "9999          BN18    27    Ninh Bình   Khỏi        Việt Nam"
      ]
     },
     "execution_count": 241,
     "metadata": {},
     "output_type": "execute_result"
    }
   ],
   "source": [
    "\n",
    "data.tail()"
   ]
  },
  {
   "cell_type": "code",
   "execution_count": 242,
   "metadata": {},
   "outputs": [
    {
     "name": "stdout",
     "output_type": "stream",
     "text": [
      "<class 'pandas.core.frame.DataFrame'>\n",
      "RangeIndex: 10000 entries, 0 to 9999\n",
      "Data columns (total 5 columns):\n",
      "patient_number    10000 non-null object\n",
      "age               10000 non-null object\n",
      "province          10000 non-null object\n",
      "status            10000 non-null object\n",
      "nationality       10000 non-null object\n",
      "dtypes: object(5)\n",
      "memory usage: 390.8+ KB\n"
     ]
    }
   ],
   "source": [
    "data.info()"
   ]
  },
  {
   "cell_type": "code",
   "execution_count": 243,
   "metadata": {},
   "outputs": [
    {
     "data": {
      "text/plain": [
       "0       Đang điều trị\n",
       "1       Đang điều trị\n",
       "2       Đang điều trị\n",
       "3       Đang điều trị\n",
       "4       Đang điều trị\n",
       "            ...      \n",
       "9995             Khỏi\n",
       "9996             Khỏi\n",
       "9997             Khỏi\n",
       "9998             Khỏi\n",
       "9999             Khỏi\n",
       "Name: status, Length: 10000, dtype: object"
      ]
     },
     "execution_count": 243,
     "metadata": {},
     "output_type": "execute_result"
    }
   ],
   "source": [
    "data['status']"
   ]
  },
  {
   "cell_type": "markdown",
   "metadata": {},
   "source": [
    "<h2> 4. Translate to English </h2>"
   ]
  },
  {
   "cell_type": "code",
   "execution_count": 244,
   "metadata": {},
   "outputs": [],
   "source": [
    "import google_trans_new\n",
    "from google_trans_new import google_translator  "
   ]
  },
  {
   "cell_type": "markdown",
   "metadata": {},
   "source": [
    "Demo translate"
   ]
  },
  {
   "cell_type": "code",
   "execution_count": 245,
   "metadata": {},
   "outputs": [
    {
     "name": "stdout",
     "output_type": "stream",
     "text": [
      "Being treated \n"
     ]
    }
   ],
   "source": [
    "translator = google_translator()  \n",
    "print(translator.translate('Đang điều trị',lang_tgt='en'))"
   ]
  },
  {
   "cell_type": "markdown",
   "metadata": {},
   "source": [
    "Loop to translate all rows in Vietnamese to English"
   ]
  },
  {
   "cell_type": "code",
   "execution_count": 246,
   "metadata": {},
   "outputs": [],
   "source": [
    "translator = google_translator()\n",
    "translations = {}\n",
    "for column in data.columns[2:5]:\n",
    "    # Unique elements of the column\n",
    "    unique_elements = data[column].unique()\n",
    "    for element in unique_elements:\n",
    "        # Adding all the translations to a dictionary (translations)\n",
    "        translations[element] = translator.translate(element,lang_tgt='en')\n"
   ]
  },
  {
   "cell_type": "code",
   "execution_count": 247,
   "metadata": {
    "scrolled": false
   },
   "outputs": [
    {
     "data": {
      "text/plain": [
       "{'Hồ Chí Minh': 'Ho Chi Minh ',\n",
       " 'Bắc Giang': 'Bac Giang ',\n",
       " 'Bắc Ninh': 'Bac Ninh '}"
      ]
     },
     "execution_count": 247,
     "metadata": {},
     "output_type": "execute_result"
    }
   ],
   "source": [
    "import itertools\n",
    "dict(itertools.islice(translations.items(), 3)) "
   ]
  },
  {
   "cell_type": "code",
   "execution_count": 248,
   "metadata": {},
   "outputs": [],
   "source": [
    "adj_dic = {'Thái Bình': 'Thai Binh','Hà Nam': 'Ha Nam ','Hoà Bình': 'Hoa Binh ',\n",
    "           'Gia Lai': 'Gia Lai','Bình Định': 'Binh Dinh','Khỏi': 'Recovered',\n",
    "           'Áo': 'Austria','Đức': 'Germany', 'U-dơ-bê-ki-xtan': 'Uzbekistan',\n",
    "           'Ba Lan': 'Poland','Nga': 'Russia','Bra-xin': 'Brazil','Li-bi': 'Libya',\n",
    "           'Nê-pan': 'Nepal ','Hung-ga-ri': 'Hungary ','Pháp': 'France ','Mi-an-ma': 'Myanmar',\n",
    "          'Lát-vi-a': 'Latvia', 'Moldova': 'Moldova', 'And Islands ':'Vietnam'}"
   ]
  },
  {
   "cell_type": "code",
   "execution_count": 249,
   "metadata": {},
   "outputs": [],
   "source": [
    "for i in translations.keys():\n",
    "    if i in adj_dic.keys():\n",
    "        translations[i] = adj_dic[i]"
   ]
  },
  {
   "cell_type": "code",
   "execution_count": 250,
   "metadata": {},
   "outputs": [],
   "source": [
    "data.replace(translations, inplace = True)"
   ]
  },
  {
   "cell_type": "code",
   "execution_count": 251,
   "metadata": {},
   "outputs": [
    {
     "data": {
      "text/html": [
       "<div>\n",
       "<style scoped>\n",
       "    .dataframe tbody tr th:only-of-type {\n",
       "        vertical-align: middle;\n",
       "    }\n",
       "\n",
       "    .dataframe tbody tr th {\n",
       "        vertical-align: top;\n",
       "    }\n",
       "\n",
       "    .dataframe thead th {\n",
       "        text-align: right;\n",
       "    }\n",
       "</style>\n",
       "<table border=\"1\" class=\"dataframe\">\n",
       "  <thead>\n",
       "    <tr style=\"text-align: right;\">\n",
       "      <th></th>\n",
       "      <th>patient_number</th>\n",
       "      <th>age</th>\n",
       "      <th>province</th>\n",
       "      <th>status</th>\n",
       "      <th>nationality</th>\n",
       "    </tr>\n",
       "  </thead>\n",
       "  <tbody>\n",
       "    <tr>\n",
       "      <th>0</th>\n",
       "      <td>BN9917</td>\n",
       "      <td>40</td>\n",
       "      <td>Ho Chi Minh</td>\n",
       "      <td>Being treated</td>\n",
       "      <td>Vietnam</td>\n",
       "    </tr>\n",
       "    <tr>\n",
       "      <th>1</th>\n",
       "      <td>BN9916</td>\n",
       "      <td>28</td>\n",
       "      <td>Ho Chi Minh</td>\n",
       "      <td>Being treated</td>\n",
       "      <td>Vietnam</td>\n",
       "    </tr>\n",
       "    <tr>\n",
       "      <th>2</th>\n",
       "      <td>BN9915</td>\n",
       "      <td>46</td>\n",
       "      <td>Ho Chi Minh</td>\n",
       "      <td>Being treated</td>\n",
       "      <td>Vietnam</td>\n",
       "    </tr>\n",
       "    <tr>\n",
       "      <th>3</th>\n",
       "      <td>BN9914</td>\n",
       "      <td>45</td>\n",
       "      <td>Ho Chi Minh</td>\n",
       "      <td>Being treated</td>\n",
       "      <td>Vietnam</td>\n",
       "    </tr>\n",
       "    <tr>\n",
       "      <th>4</th>\n",
       "      <td>BN9913</td>\n",
       "      <td>55</td>\n",
       "      <td>Ho Chi Minh</td>\n",
       "      <td>Being treated</td>\n",
       "      <td>Vietnam</td>\n",
       "    </tr>\n",
       "  </tbody>\n",
       "</table>\n",
       "</div>"
      ],
      "text/plain": [
       "  patient_number   age      province          status nationality\n",
       "0        BN9917    40   Ho Chi Minh   Being treated     Vietnam \n",
       "1        BN9916    28   Ho Chi Minh   Being treated     Vietnam \n",
       "2        BN9915    46   Ho Chi Minh   Being treated     Vietnam \n",
       "3        BN9914    45   Ho Chi Minh   Being treated     Vietnam \n",
       "4        BN9913    55   Ho Chi Minh   Being treated     Vietnam "
      ]
     },
     "execution_count": 251,
     "metadata": {},
     "output_type": "execute_result"
    }
   ],
   "source": [
    "data.head()"
   ]
  },
  {
   "cell_type": "markdown",
   "metadata": {},
   "source": [
    "<h2> 5. Basic EDA </h2>"
   ]
  },
  {
   "cell_type": "markdown",
   "metadata": {},
   "source": [
    "This is to explore answers for these questions:\n",
    "1. Number of cases by province and country\n",
    "2. Number of cases by status\n"
   ]
  },
  {
   "cell_type": "markdown",
   "metadata": {},
   "source": [
    "<b>1. Number of cases by province and country</b>"
   ]
  },
  {
   "cell_type": "code",
   "execution_count": 252,
   "metadata": {
    "scrolled": false
   },
   "outputs": [
    {
     "data": {
      "text/plain": [
       "province\n",
       "Bac Giang           3873\n",
       "Bac Ninh            1275\n",
       "Ho Chi Minh          925\n",
       "Hai Duong            812\n",
       "Hanoi                728\n",
       "Danang               654\n",
       "Khanh Hoa            143\n",
       "BA Ria Vung Tau      138\n",
       "Quang Nam            126\n",
       "Vinh Phuc            100\n",
       "Lang Son              97\n",
       "Quang Ninh            90\n",
       "hung Yen              75\n",
       "Thai Binh             63\n",
       "Kien Giang            63\n",
       "Tay Ninh              62\n",
       "Dien Bien             59\n",
       "Ha Nam                55\n",
       "Bac Lieu              53\n",
       "Binh Duong            53\n",
       "Ha Tinh               43\n",
       "Ninh Binh             40\n",
       "Can Tho               34\n",
       "Hoa Binh              33\n",
       "Dong Nai              31\n",
       "Dong Thap             29\n",
       "Phu Yen               28\n",
       "Gia Lai               28\n",
       "Thanh Hoa             27\n",
       "Long An               26\n",
       "Nam Dinh              25\n",
       "Ben tre               20\n",
       "An Giang              20\n",
       "Soc Trang             19\n",
       "Vinh Long             15\n",
       "Tien Giang            14\n",
       "Quang Tri             13\n",
       "Ninh Thuan            12\n",
       "Hai Phong             12\n",
       "Binh Thuan            11\n",
       "Tra Vinh              10\n",
       "Thai Nguyen            8\n",
       "Quang Ngai             8\n",
       "Ca Mau                 8\n",
       "Dak Lak                7\n",
       "Phu-Tho                7\n",
       "Hue                    6\n",
       "Yen Bai                5\n",
       "Nghe An                5\n",
       "Ha Giang               4\n",
       "Lao Cai                2\n",
       "                       2\n",
       "Binh Dinh              1\n",
       "Tuyen Quang            1\n",
       "Son La                 1\n",
       "Lai Chau               1\n",
       "Name: patient_number, dtype: int64"
      ]
     },
     "execution_count": 252,
     "metadata": {},
     "output_type": "execute_result"
    }
   ],
   "source": [
    "data.groupby('province').patient_number.count().sort_values(ascending = False)"
   ]
  },
  {
   "cell_type": "code",
   "execution_count": 253,
   "metadata": {
    "scrolled": true
   },
   "outputs": [
    {
     "data": {
      "text/plain": [
       "nationality\n",
       "Vietnam                         9767\n",
       "India                             60\n",
       "Russia                            27\n",
       "UK                                22\n",
       "China                             12\n",
       "USA                               11\n",
       "Philippines                       11\n",
       "South Africa                       8\n",
       "Brazil                             7\n",
       "France                             7\n",
       "Germany                            6\n",
       "Japan                              6\n",
       "Taiwan                             5\n",
       "Austria                            4\n",
       "Korea                              4\n",
       "Costa Rica Republic                3\n",
       "Belarus                            3\n",
       "Turkey                             3\n",
       "Ukraine                            2\n",
       "Pakistan                           2\n",
       "And Islands                        2\n",
       "Myanmar                            2\n",
       "Israel                             2\n",
       "Egypt                              1\n",
       "Denmark                            1\n",
       "Czech Republic                     1\n",
       "Serbia and Montenegro              1\n",
       "Canada                             1\n",
       "Australia                          1\n",
       "Algeria                            1\n",
       "Federal Republic of Nigeria        1\n",
       "Hungary                            1\n",
       "Switzerland                        1\n",
       "Hong Kong                          1\n",
       "Poland                             1\n",
       "Iceland                            1\n",
       "Sri Lanka                          1\n",
       "Indonesia                          1\n",
       "Iran                               1\n",
       "Uzbekistan                         1\n",
       "Latvia                             1\n",
       "Libya                              1\n",
       "Malaysia                           1\n",
       "Moldova                            1\n",
       "Nepal                              1\n",
       "Singapore                          1\n",
       "                                   1\n",
       "Name: patient_number, dtype: int64"
      ]
     },
     "execution_count": 253,
     "metadata": {},
     "output_type": "execute_result"
    }
   ],
   "source": [
    "data.groupby('nationality').patient_number.count().sort_values(ascending = False)"
   ]
  },
  {
   "cell_type": "markdown",
   "metadata": {},
   "source": [
    "<b> 2. Number of cases by status </b>"
   ]
  },
  {
   "cell_type": "code",
   "execution_count": 254,
   "metadata": {},
   "outputs": [
    {
     "data": {
      "text/plain": [
       "status\n",
       "Being treated     6250\n",
       "Dead                55\n",
       "Other                4\n",
       "Recovered         3691\n",
       "Name: patient_number, dtype: int64"
      ]
     },
     "execution_count": 254,
     "metadata": {},
     "output_type": "execute_result"
    }
   ],
   "source": [
    "data.groupby('status').patient_number.count()"
   ]
  },
  {
   "cell_type": "code",
   "execution_count": 255,
   "metadata": {},
   "outputs": [
    {
     "data": {
      "text/html": [
       "<div>\n",
       "<style scoped>\n",
       "    .dataframe tbody tr th:only-of-type {\n",
       "        vertical-align: middle;\n",
       "    }\n",
       "\n",
       "    .dataframe tbody tr th {\n",
       "        vertical-align: top;\n",
       "    }\n",
       "\n",
       "    .dataframe thead th {\n",
       "        text-align: right;\n",
       "    }\n",
       "</style>\n",
       "<table border=\"1\" class=\"dataframe\">\n",
       "  <thead>\n",
       "    <tr style=\"text-align: right;\">\n",
       "      <th></th>\n",
       "      <th>patient_number</th>\n",
       "      <th>age</th>\n",
       "      <th>province</th>\n",
       "      <th>status</th>\n",
       "      <th>nationality</th>\n",
       "    </tr>\n",
       "  </thead>\n",
       "  <tbody>\n",
       "    <tr>\n",
       "      <th>7788</th>\n",
       "      <td>BN2229</td>\n",
       "      <td>54</td>\n",
       "      <td>Hanoi</td>\n",
       "      <td>Other</td>\n",
       "      <td>Japan</td>\n",
       "    </tr>\n",
       "    <tr>\n",
       "      <th>9253</th>\n",
       "      <td>BN764</td>\n",
       "      <td>67</td>\n",
       "      <td>Danang</td>\n",
       "      <td>Other</td>\n",
       "      <td>Vietnam</td>\n",
       "    </tr>\n",
       "    <tr>\n",
       "      <th>9564</th>\n",
       "      <td>BN453</td>\n",
       "      <td>56</td>\n",
       "      <td>Danang</td>\n",
       "      <td>Other</td>\n",
       "      <td>Vietnam</td>\n",
       "    </tr>\n",
       "    <tr>\n",
       "      <th>9599</th>\n",
       "      <td>BN418</td>\n",
       "      <td>61</td>\n",
       "      <td>Danang</td>\n",
       "      <td>Other</td>\n",
       "      <td>Vietnam</td>\n",
       "    </tr>\n",
       "  </tbody>\n",
       "</table>\n",
       "</div>"
      ],
      "text/plain": [
       "     patient_number   age province  status nationality\n",
       "7788        BN2229    54    Hanoi   Other       Japan \n",
       "9253         BN764    67   Danang   Other     Vietnam \n",
       "9564         BN453    56   Danang   Other     Vietnam \n",
       "9599         BN418    61   Danang   Other     Vietnam "
      ]
     },
     "execution_count": 255,
     "metadata": {},
     "output_type": "execute_result"
    }
   ],
   "source": [
    "data[data.status == 'Other ']"
   ]
  },
  {
   "cell_type": "markdown",
   "metadata": {},
   "source": [
    "Status \"Other\" are used to refer to 4 patients that die because of other reason not covid\n",
    "+ Patient 418: died because of chronic kidney disease ( 4 times negative test covid)\n",
    "+ Patient 453: died because of chronic kidney disease, pneumonia, heart failure, stroke ( 3 times negative test covid)\n",
    "+ Patient 764: died because of chronic kidney disease,hypertension, stroke ( 3 times negative test covid)\n",
    "+ Patient 2229: died unknown reason ( 2 times negative test covid)"
   ]
  },
  {
   "cell_type": "markdown",
   "metadata": {},
   "source": [
    "<b> 3. Total cases </b>"
   ]
  },
  {
   "cell_type": "code",
   "execution_count": 257,
   "metadata": {},
   "outputs": [
    {
     "data": {
      "text/html": [
       "<div>\n",
       "<style scoped>\n",
       "    .dataframe tbody tr th:only-of-type {\n",
       "        vertical-align: middle;\n",
       "    }\n",
       "\n",
       "    .dataframe tbody tr th {\n",
       "        vertical-align: top;\n",
       "    }\n",
       "\n",
       "    .dataframe thead th {\n",
       "        text-align: right;\n",
       "    }\n",
       "</style>\n",
       "<table border=\"1\" class=\"dataframe\">\n",
       "  <thead>\n",
       "    <tr style=\"text-align: right;\">\n",
       "      <th></th>\n",
       "      <th>patient_number</th>\n",
       "      <th>age</th>\n",
       "      <th>province</th>\n",
       "      <th>status</th>\n",
       "      <th>nationality</th>\n",
       "    </tr>\n",
       "  </thead>\n",
       "  <tbody>\n",
       "    <tr>\n",
       "      <th>0</th>\n",
       "      <td>BN9917</td>\n",
       "      <td>40</td>\n",
       "      <td>Ho Chi Minh</td>\n",
       "      <td>Being treated</td>\n",
       "      <td>Vietnam</td>\n",
       "    </tr>\n",
       "    <tr>\n",
       "      <th>1</th>\n",
       "      <td>BN9916</td>\n",
       "      <td>28</td>\n",
       "      <td>Ho Chi Minh</td>\n",
       "      <td>Being treated</td>\n",
       "      <td>Vietnam</td>\n",
       "    </tr>\n",
       "    <tr>\n",
       "      <th>2</th>\n",
       "      <td>BN9915</td>\n",
       "      <td>46</td>\n",
       "      <td>Ho Chi Minh</td>\n",
       "      <td>Being treated</td>\n",
       "      <td>Vietnam</td>\n",
       "    </tr>\n",
       "    <tr>\n",
       "      <th>3</th>\n",
       "      <td>BN9914</td>\n",
       "      <td>45</td>\n",
       "      <td>Ho Chi Minh</td>\n",
       "      <td>Being treated</td>\n",
       "      <td>Vietnam</td>\n",
       "    </tr>\n",
       "    <tr>\n",
       "      <th>4</th>\n",
       "      <td>BN9913</td>\n",
       "      <td>55</td>\n",
       "      <td>Ho Chi Minh</td>\n",
       "      <td>Being treated</td>\n",
       "      <td>Vietnam</td>\n",
       "    </tr>\n",
       "    <tr>\n",
       "      <th>...</th>\n",
       "      <td>...</td>\n",
       "      <td>...</td>\n",
       "      <td>...</td>\n",
       "      <td>...</td>\n",
       "      <td>...</td>\n",
       "    </tr>\n",
       "    <tr>\n",
       "      <th>9995</th>\n",
       "      <td>BN22</td>\n",
       "      <td>60</td>\n",
       "      <td>Quang Ninh</td>\n",
       "      <td>Recovered</td>\n",
       "      <td>UK</td>\n",
       "    </tr>\n",
       "    <tr>\n",
       "      <th>9996</th>\n",
       "      <td>BN21</td>\n",
       "      <td>61</td>\n",
       "      <td>Hanoi</td>\n",
       "      <td>Recovered</td>\n",
       "      <td>Vietnam</td>\n",
       "    </tr>\n",
       "    <tr>\n",
       "      <th>9997</th>\n",
       "      <td>BN20</td>\n",
       "      <td>28</td>\n",
       "      <td>Hanoi</td>\n",
       "      <td>Recovered</td>\n",
       "      <td>Vietnam</td>\n",
       "    </tr>\n",
       "    <tr>\n",
       "      <th>9998</th>\n",
       "      <td>BN19</td>\n",
       "      <td>64</td>\n",
       "      <td>Hanoi</td>\n",
       "      <td>Recovered</td>\n",
       "      <td>Vietnam</td>\n",
       "    </tr>\n",
       "    <tr>\n",
       "      <th>9999</th>\n",
       "      <td>BN18</td>\n",
       "      <td>27</td>\n",
       "      <td>Ninh Binh</td>\n",
       "      <td>Recovered</td>\n",
       "      <td>Vietnam</td>\n",
       "    </tr>\n",
       "  </tbody>\n",
       "</table>\n",
       "<p>10000 rows × 5 columns</p>\n",
       "</div>"
      ],
      "text/plain": [
       "     patient_number   age      province          status nationality\n",
       "0           BN9917    40   Ho Chi Minh   Being treated     Vietnam \n",
       "1           BN9916    28   Ho Chi Minh   Being treated     Vietnam \n",
       "2           BN9915    46   Ho Chi Minh   Being treated     Vietnam \n",
       "3           BN9914    45   Ho Chi Minh   Being treated     Vietnam \n",
       "4           BN9913    55   Ho Chi Minh   Being treated     Vietnam \n",
       "...             ...   ...           ...             ...         ...\n",
       "9995          BN22    60    Quang Ninh        Recovered         UK \n",
       "9996          BN21    61         Hanoi        Recovered    Vietnam \n",
       "9997          BN20    28         Hanoi        Recovered    Vietnam \n",
       "9998          BN19    64         Hanoi        Recovered    Vietnam \n",
       "9999          BN18    27     Ninh Binh        Recovered    Vietnam \n",
       "\n",
       "[10000 rows x 5 columns]"
      ]
     },
     "execution_count": 257,
     "metadata": {},
     "output_type": "execute_result"
    }
   ],
   "source": [
    "data"
   ]
  },
  {
   "cell_type": "code",
   "execution_count": null,
   "metadata": {},
   "outputs": [],
   "source": []
  }
 ],
 "metadata": {
  "kernelspec": {
   "display_name": "Python 3",
   "language": "python",
   "name": "python3"
  },
  "language_info": {
   "codemirror_mode": {
    "name": "ipython",
    "version": 3
   },
   "file_extension": ".py",
   "mimetype": "text/x-python",
   "name": "python",
   "nbconvert_exporter": "python",
   "pygments_lexer": "ipython3",
   "version": "3.7.1"
  }
 },
 "nbformat": 4,
 "nbformat_minor": 2
}
